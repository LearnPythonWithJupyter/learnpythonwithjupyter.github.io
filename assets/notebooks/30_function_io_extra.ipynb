{
 "cells": [
  {
   "cell_type": "markdown",
   "metadata": {},
   "source": [
    "# 30. Free ticket at the museum\n",
    "\n",
    "## Input validation and outputs variations\n",
    "\n",
    "[Learn Python with Jupyter](https://learnpythonwithjupyter.com/) by [Serena Bonaretti](https://sbonaretti.github.io/)   \n",
    "Narrative license: [CC BY-NC-SA](https://creativecommons.org/licenses/by-nc-sa/2.0/). Code license: [GNU-GPL v3](https://www.gnu.org/licenses/gpl-3.0.en.html)  \n",
    "\n",
    "---"
   ]
  },
  {
   "cell_type": "markdown",
   "metadata": {},
   "source": [
    "- You work at a museum and have to update the online system to buy tickets. The update is that people who are 65 and older now qualify for a free ticket. Write a function that asks visitors to enter their prefix, last name, and age; checks the *types* and *values* of these inputs; and returns a message telling the visitor if they are eligible for a free ticket."
   ]
  },
  {
   "cell_type": "code",
   "execution_count": null,
   "metadata": {},
   "outputs": [],
   "source": [
    "def free_museum_ticket(prefix, last_name, age): \n",
    "    \"\"\"Returns a message containing inputs and free ticket eligibility based on age\n",
    "    E.g. Mrs. Holmes, you are eligible for a free museum ticket because you are 66\n",
    "    \n",
    "    Parameters\n",
    "    ----------\n",
    "    prefix : string\n",
    "        Ms, Mrs, Mr\n",
    "    last_name : string\n",
    "        Last name of a visitor\n",
    "    age : integer\n",
    "        Age of a visitor\n",
    "        \n",
    "    Returns\n",
    "    -------\n",
    "    string \n",
    "        Message containing visitor inputs and eligibility\n",
    "    \"\"\"\n",
    "    \n",
    "    # --- checking parameter types ---\n",
    "    \n",
    "    # the type of prefix must be string\n",
    "    if not isinstance (prefix, str): \n",
    "        raise TypeError (\"prefix must be a string\")\n",
    "        \n",
    "    # the type of last_name must be string\n",
    "    if not isinstance (last_name, str): \n",
    "        raise TypeError (\"last_name must be a string\")\n",
    "    \n",
    "    # the type of age must be integer\n",
    "    if not isinstance (age, int): \n",
    "        raise TypeError (\"age must be an integer\") \n",
    "\n",
    "    \n",
    "    # --- checking parameter values ---\n",
    "    \n",
    "    # prefix must be Ms, Mrs, or Mr\n",
    "    if prefix not in [\"Ms\", \"Mrs\", \"Mr\"]:\n",
    "        raise ValueError (\"prefix must be Ms, Mrs, or Mr\")\n",
    "        \n",
    "    # last_name must contain only characters \n",
    "    if not last_name.isalpha():\n",
    "        raise ValueError (\"last_name must contain only letters\")\n",
    "    \n",
    "    # age has to be between 0 and 125\n",
    "    if age < 0 or age > 125:\n",
    "        raise ValueError (\"age must be between 0 and 125\")\n",
    "\n",
    "    \n",
    "    # --- returning output ---\n",
    "\n",
    "    if age >= 65:\n",
    "        return prefix + \". \" + last_name + \", you are eligible for a free museum ticket because you are \" + str(age)\n",
    "    else:\n",
    "        return prefix + \". \" + last_name + \", you are not eligible for a free museum ticket because you are \" + str(age) "
   ]
  },
  {
   "cell_type": "markdown",
   "metadata": {},
   "source": [
    "---\n",
    "- Call the function checking the parameter *types*:"
   ]
  },
  {
   "cell_type": "code",
   "execution_count": null,
   "metadata": {},
   "outputs": [],
   "source": [
    "# checking prefix type\n",
    "message = free_museum_ticket(1, \"Holmes\", 66)\n",
    "print (message)"
   ]
  },
  {
   "cell_type": "code",
   "execution_count": null,
   "metadata": {},
   "outputs": [],
   "source": [
    "# checking last_name type\n",
    "message = free_museum_ticket(\"Mrs\", 1.2, 66)\n",
    "print (message)"
   ]
  },
  {
   "cell_type": "code",
   "execution_count": null,
   "metadata": {},
   "outputs": [],
   "source": [
    "# checking age type\n",
    "message = free_museum_ticket(\"Mrs\", \"Holmes\", \"Hi\") \n",
    "print (message)"
   ]
  },
  {
   "cell_type": "markdown",
   "metadata": {},
   "source": [
    "---\n",
    "- Call the function checking parameter *values*:"
   ]
  },
  {
   "cell_type": "code",
   "execution_count": null,
   "metadata": {},
   "outputs": [],
   "source": [
    "# checking prefix value\n",
    "message = free_museum_ticket(\"Dr\", \"Holmes\", 66)\n",
    "print (message)"
   ]
  },
  {
   "cell_type": "code",
   "execution_count": null,
   "metadata": {},
   "outputs": [],
   "source": [
    "# checking last_name value\n",
    "message = free_museum_ticket(\"Mrs\", \"82\", 66)\n",
    "print (message)"
   ]
  },
  {
   "cell_type": "code",
   "execution_count": null,
   "metadata": {},
   "outputs": [],
   "source": [
    "# checking age value\n",
    "message = free_museum_ticket(\"Mrs\", \"Holmes\", 130)\n",
    "print (message)"
   ]
  },
  {
   "cell_type": "markdown",
   "metadata": {},
   "source": [
    "---\n",
    "- Call the function testing the two possible returns:"
   ]
  },
  {
   "cell_type": "code",
   "execution_count": null,
   "metadata": {},
   "outputs": [],
   "source": [
    "# person is eligible\n",
    "message = free_museum_ticket(\"Mrs\", \"Holmes\", 66)\n",
    "print (message)"
   ]
  },
  {
   "cell_type": "code",
   "execution_count": null,
   "metadata": {},
   "outputs": [],
   "source": [
    "# person is not eligible\n",
    "message = free_museum_ticket(\"Mrs\", \"Choi\", 38)\n",
    "print (message)"
   ]
  }
 ],
 "metadata": {
  "kernelspec": {
   "display_name": "Python 3 (ipykernel)",
   "language": "python",
   "name": "python3"
  },
  "language_info": {
   "codemirror_mode": {
    "name": "ipython",
    "version": 3
   },
   "file_extension": ".py",
   "mimetype": "text/x-python",
   "name": "python",
   "nbconvert_exporter": "python",
   "pygments_lexer": "ipython3",
   "version": "3.9.6"
  },
  "widgets": {
   "application/vnd.jupyter.widget-state+json": {
    "state": {},
    "version_major": 2,
    "version_minor": 0
   }
  }
 },
 "nbformat": 4,
 "nbformat_minor": 4
}

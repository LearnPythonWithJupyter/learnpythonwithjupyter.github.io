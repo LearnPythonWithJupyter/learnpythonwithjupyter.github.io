{
 "cells": [
  {
   "cell_type": "markdown",
   "metadata": {},
   "source": [
    "# 28. Printing *Thank you* cards\n",
    "\n",
    "## Function inputs\n",
    "\n",
    "[Learn Python with Jupyter](https://learnpythonwithjupyter.com/) by [Serena Bonaretti](https://sbonaretti.github.io/)   \n",
    "Narrative license: [CC BY-NC-SA](https://creativecommons.org/licenses/by-nc-sa/2.0/). Code license: [GNU-GPL v3](https://www.gnu.org/licenses/gpl-3.0.en.html)  \n",
    "\n",
    "---"
   ]
  },
  {
   "cell_type": "markdown",
   "metadata": {},
   "source": [
    "## 1. Basic *Thank you* cards\n",
    "- You recently hosted a party, and you want to send *Thank you* cards to those who attended. Create\n",
    "a function that takes a first name as an argument and prints a *Thank you* message containing an\n",
    "attendee’s name (e.g., *Thank you Maria*): "
   ]
  },
  {
   "cell_type": "code",
   "execution_count": null,
   "metadata": {},
   "outputs": [],
   "source": [
    "def print_thank_you(first_name): \n",
    "    \"\"\"Prints a string containing \"Thank you\" and a first name\n",
    "    \n",
    "    Parameters\n",
    "    ----------\n",
    "    first_name: string\n",
    "        First name of a person\n",
    "    \"\"\"\n",
    "    \n",
    "    print (\"Thank you\", first_name)"
   ]
  },
  {
   "cell_type": "markdown",
   "metadata": {},
   "source": [
    "- Print two *Thank you* cards: "
   ]
  },
  {
   "cell_type": "code",
   "execution_count": null,
   "metadata": {},
   "outputs": [],
   "source": [
    "print_thank_you(\"Maria\")"
   ]
  },
  {
   "cell_type": "code",
   "execution_count": null,
   "metadata": {},
   "outputs": [],
   "source": [
    "print_thank_you(\"Xiao\")"
   ]
  },
  {
   "cell_type": "markdown",
   "metadata": {},
   "source": [
    "---\n",
    "## 2. Formal *Thank you* cards\n",
    "- After a second thought, you decide that it is more appropriate to print formal Thank you cards. Mod-\n",
    "ify the previous function to take three arguments—prefix, first name, and last name—and to print\n",
    "a thank you message containing them (e.g., *Thank you Mrs. Maria Lopez*):  "
   ]
  },
  {
   "cell_type": "code",
   "execution_count": null,
   "metadata": {},
   "outputs": [],
   "source": [
    "def print_thank_you(prefix, first_name, last_name): \n",
    "    \"\"\"Prints a string containing \"Thank you\" and the inputs\n",
    "    \n",
    "    Parameters\n",
    "    ----------\n",
    "    prefix: string\n",
    "        Usually Ms, Mrs, Mr\n",
    "    first_name: string\n",
    "        First name of a person\n",
    "    last_name: string\n",
    "        Last name of a person\n",
    "    \"\"\"\n",
    "\n",
    "    print (\"Thank you\", prefix, first_name, last_name)"
   ]
  },
  {
   "cell_type": "markdown",
   "metadata": {},
   "source": [
    "- Print two formal *Thank you* cards: "
   ]
  },
  {
   "cell_type": "code",
   "execution_count": null,
   "metadata": {},
   "outputs": [],
   "source": [
    "print_thank_you(\"Mrs\", \"Maria\", \"Lopez\")"
   ]
  },
  {
   "cell_type": "code",
   "execution_count": null,
   "metadata": {},
   "outputs": [],
   "source": [
    "print_thank_you(\"Mr\", \"Xiao\", \"Li\")"
   ]
  },
  {
   "cell_type": "markdown",
   "metadata": {},
   "source": [
    "---\n",
    "## 3. Last name missing! \n",
    "- You are very happy with the *Thank you* cards, but you suddenly realize that some participants did\n",
    "not provide their last names! Adapt the function so that the last name has an empty string as a\n",
    "default value:"
   ]
  },
  {
   "cell_type": "code",
   "execution_count": null,
   "metadata": {},
   "outputs": [],
   "source": [
    "def print_thank_you(prefix, first_name, last_name=\"\"): \n",
    "    \"\"\"Prints a string containing \"Thank you\" and the inputs\n",
    "    \n",
    "    Parameters\n",
    "    ----------\n",
    "    prefix: string\n",
    "        Usually Ms, Mrs, Mr\n",
    "    first_name: string\n",
    "        First name of a person\n",
    "    last_name: string\n",
    "        Last name of a person. The default is an empty string\n",
    "    \"\"\"\n",
    "    \n",
    "    print (\"Thank you\", prefix, first_name, last_name)"
   ]
  },
  {
   "cell_type": "markdown",
   "metadata": {},
   "source": [
    "- Print two *Thank you* cards, one with a last name and one without a last name:"
   ]
  },
  {
   "cell_type": "code",
   "execution_count": null,
   "metadata": {},
   "outputs": [],
   "source": [
    "print_thank_you(\"Mrs\", \"Maria\", \"Lopez\")"
   ]
  },
  {
   "cell_type": "code",
   "execution_count": null,
   "metadata": {},
   "outputs": [],
   "source": [
    "print_thank_you(\"Mr\", \"Xiao\")"
   ]
  },
  {
   "cell_type": "markdown",
   "metadata": {},
   "source": [
    "---\n",
    "## 4. Prefix and/or first name missing! \n",
    "- Finally, you realize that prefix and/or first name are also missing for some guests. Modify the function accordingly:"
   ]
  },
  {
   "cell_type": "code",
   "execution_count": null,
   "metadata": {},
   "outputs": [],
   "source": [
    "def print_thank_you(prefix=\"\", first_name=\"\", last_name=\"\"): \n",
    "    \"\"\"Prints each input and a string containing \"Thank you\" and the inputs\n",
    "    \n",
    "    Parameters\n",
    "    ----------\n",
    "    prefix: string\n",
    "        Usually Ms, Mrs, Mr. The default is an empty string\n",
    "    first_name: string\n",
    "        First name of a person. The default is an empty string\n",
    "    last_name: string\n",
    "        Last name of a person. The default is an empty string\n",
    "    \"\"\"\n",
    "    \n",
    "    print (\"Prefix:\", prefix)\n",
    "    print (\"First name:\", first_name)\n",
    "    print (\"Last name:\", last_name)\n",
    "    print (\"Thank you\", prefix, first_name, last_name)"
   ]
  },
  {
   "cell_type": "markdown",
   "metadata": {},
   "source": [
    "- Print a *Thank you* card where the *first name* is missing:"
   ]
  },
  {
   "cell_type": "code",
   "execution_count": null,
   "metadata": {
    "tags": []
   },
   "outputs": [],
   "source": [
    "print_thank_you(prefix=\"Mrs\", last_name=\"Lopez\")"
   ]
  },
  {
   "cell_type": "markdown",
   "metadata": {},
   "source": [
    "- Print a *Thank you* card where the *prefix* is missing:"
   ]
  },
  {
   "cell_type": "code",
   "execution_count": null,
   "metadata": {
    "tags": []
   },
   "outputs": [],
   "source": [
    "print_thank_you(first_name=\"Xiao\", last_name=\"Li\")"
   ]
  }
 ],
 "metadata": {
  "kernelspec": {
   "display_name": "Python 3 (ipykernel)",
   "language": "python",
   "name": "python3"
  },
  "language_info": {
   "codemirror_mode": {
    "name": "ipython",
    "version": 3
   },
   "file_extension": ".py",
   "mimetype": "text/x-python",
   "name": "python",
   "nbconvert_exporter": "python",
   "pygments_lexer": "ipython3",
   "version": "3.9.6"
  },
  "widgets": {
   "application/vnd.jupyter.widget-state+json": {
    "state": {},
    "version_major": 2,
    "version_minor": 0
   }
  }
 },
 "nbformat": 4,
 "nbformat_minor": 4
}

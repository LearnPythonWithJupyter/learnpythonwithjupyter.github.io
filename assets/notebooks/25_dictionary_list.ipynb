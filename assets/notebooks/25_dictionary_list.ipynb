{
 "cells": [
  {
   "cell_type": "markdown",
   "metadata": {},
   "source": [
    "# 25. Trip to Switzerland\n",
    "\n",
    "\n",
    "## Dictionary with lists as values\n",
    "\n",
    "\n",
    "[Learn Python with Jupyter](https://learnpythonwithjupyter.com/) by [Serena Bonaretti](https://sbonaretti.github.io/)   \n",
    "Narrative license: [CC BY-NC-SA](https://creativecommons.org/licenses/by-nc-sa/2.0/). Code license: [GNU-GPL v3](https://www.gnu.org/licenses/gpl-3.0.en.html)  \n",
    "\n",
    "---\n"
   ]
  },
  {
   "cell_type": "markdown",
   "metadata": {},
   "source": [
    "- Your friend is planning a trip to Switzerland, and he has asked you for some tips. You start with an empty dictionary to fill out:"
   ]
  },
  {
   "cell_type": "code",
   "execution_count": 1,
   "metadata": {},
   "outputs": [],
   "source": [
    "tips = {}"
   ]
  },
  {
   "cell_type": "markdown",
   "metadata": {},
   "source": [
    "- He would like to visit some cities and taste typical food. Therefore, you add some recommendations:"
   ]
  },
  {
   "cell_type": "code",
   "execution_count": 2,
   "metadata": {},
   "outputs": [
    {
     "name": "stdout",
     "output_type": "stream",
     "text": [
      "{'cities': ['Bern', 'Lucern'], 'food': ['chocolate', 'raclette']}\n"
     ]
    }
   ],
   "source": [
    "tips[\"cities\"] = [\"Bern\", \"Lucern\"]\n",
    "tips[\"food\"]   = [\"chocolate\", \"raclette\"]\n",
    "print (tips)"
   ]
  },
  {
   "cell_type": "markdown",
   "metadata": {},
   "source": [
    "- Because his stay is four days, you add two more cities and two more dishes:"
   ]
  },
  {
   "cell_type": "code",
   "execution_count": 3,
   "metadata": {},
   "outputs": [
    {
     "name": "stdout",
     "output_type": "stream",
     "text": [
      "{'cities': ['Bern', 'Lucern', 'Lugano'], 'food': ['chocolate', 'raclette']}\n"
     ]
    }
   ],
   "source": [
    "tips[\"cities\"].append(\"Lugano\")\n",
    "print (tips)\n",
    "# using [] and .append() (syntax 1)"
   ]
  },
  {
   "cell_type": "code",
   "execution_count": 4,
   "metadata": {},
   "outputs": [
    {
     "name": "stdout",
     "output_type": "stream",
     "text": [
      "{'cities': ['Bern', 'Lucern', 'Lugano', 'Geneva'], 'food': ['chocolate', 'raclette']}\n"
     ]
    }
   ],
   "source": [
    "tips[\"cities\"] += [\"Geneva\"]\n",
    "print (tips)\n",
    "# using [] and list concatenation (syntax 2)"
   ]
  },
  {
   "cell_type": "code",
   "execution_count": 5,
   "metadata": {},
   "outputs": [
    {
     "name": "stdout",
     "output_type": "stream",
     "text": [
      "{'cities': ['Bern', 'Lucern', 'Lugano', 'Geneva'], 'food': ['chocolate', 'raclette', 'onion tarte']}\n"
     ]
    }
   ],
   "source": [
    "tips.get(\"food\").append(\"onion tarte\")\n",
    "print (tips)\n",
    "# using get and .append() (syntax 3)"
   ]
  },
  {
   "cell_type": "code",
   "execution_count": 6,
   "metadata": {},
   "outputs": [
    {
     "name": "stdout",
     "output_type": "stream",
     "text": [
      "{'cities': ['Bern', 'Lucern', 'Lugano', 'Geneva'], 'food': ['chocolate', 'raclette', 'onion tarte', 'fondue']}\n"
     ]
    }
   ],
   "source": [
    "tips[\"food\"] = tips.get(\"food\") + [\"fondue\"]\n",
    "print (tips)\n",
    "# using get and list concatenation (syntax 4)"
   ]
  },
  {
   "cell_type": "markdown",
   "metadata": {},
   "source": [
    "- You want to check that the dictionary is correct, so you print all items one by one:"
   ]
  },
  {
   "cell_type": "code",
   "execution_count": 7,
   "metadata": {},
   "outputs": [
    {
     "name": "stdout",
     "output_type": "stream",
     "text": [
      "cities ['Bern', 'Lucern', 'Lugano', 'Geneva']\n",
      "food ['chocolate', 'raclette', 'onion tarte', 'fondue']\n"
     ]
    }
   ],
   "source": [
    "for k,v in tips.items():\n",
    "    print (k,v)"
   ]
  },
  {
   "cell_type": "markdown",
   "metadata": {},
   "source": [
    "- Finally, you improve the print for improved readability:"
   ]
  },
  {
   "cell_type": "code",
   "execution_count": 8,
   "metadata": {},
   "outputs": [
    {
     "name": "stdout",
     "output_type": "stream",
     "text": [
      "cities: ['Bern', 'Lucern', 'Lugano', 'Geneva']\n",
      "  food: ['chocolate', 'raclette', 'onion tarte', 'fondue']\n"
     ]
    }
   ],
   "source": [
    "for k,v in tips.items():\n",
    "    print (\"{:>6}: {}\".format(k,v))"
   ]
  },
  {
   "cell_type": "code",
   "execution_count": null,
   "metadata": {},
   "outputs": [],
   "source": []
  },
  {
   "cell_type": "code",
   "execution_count": null,
   "metadata": {
    "tags": []
   },
   "outputs": [],
   "source": []
  },
  {
   "cell_type": "code",
   "execution_count": null,
   "metadata": {},
   "outputs": [],
   "source": []
  },
  {
   "cell_type": "code",
   "execution_count": null,
   "metadata": {},
   "outputs": [],
   "source": []
  },
  {
   "cell_type": "code",
   "execution_count": null,
   "metadata": {},
   "outputs": [],
   "source": []
  },
  {
   "cell_type": "markdown",
   "metadata": {},
   "source": [
    "---\n",
    "\n",
    "## Olympic games"
   ]
  },
  {
   "cell_type": "markdown",
   "metadata": {},
   "source": [
    "- You are a sports journalist and you have to collect lists of summer and winter sports at the Olympic games. You start with an empty dictionary:"
   ]
  },
  {
   "cell_type": "code",
   "execution_count": 10,
   "metadata": {},
   "outputs": [],
   "source": [
    "olympic_games = {}"
   ]
  },
  {
   "cell_type": "markdown",
   "metadata": {},
   "source": [
    "- Then you add two summer sports and two winter sports: "
   ]
  },
  {
   "cell_type": "code",
   "execution_count": 11,
   "metadata": {},
   "outputs": [
    {
     "name": "stdout",
     "output_type": "stream",
     "text": [
      "{'summer': ['diving', 'swimming'], 'winter': ['alpine skiing', 'figure skeating']}\n"
     ]
    }
   ],
   "source": [
    "olympic_games[\"summer\"] = [\"diving\", \"swimming\"]\n",
    "olympic_games[\"winter\"] = [\"alpine skiing\", \"figure skeating\"]\n",
    "print (olympic_games)"
   ]
  },
  {
   "cell_type": "markdown",
   "metadata": {},
   "source": [
    "- The lists look a bit short, so you want to add two more summer sports and two more winter sports: "
   ]
  },
  {
   "cell_type": "code",
   "execution_count": 12,
   "metadata": {},
   "outputs": [
    {
     "data": {
      "text/plain": [
       "{'summer': ['diving', 'swimming', 'rowing'],\n",
       " 'winter': ['alpine skiing', 'figure skeating']}"
      ]
     },
     "execution_count": 12,
     "metadata": {},
     "output_type": "execute_result"
    }
   ],
   "source": [
    "# using [] and .append() (syntax 1)\n",
    "olympic_games[\"summer\"].append(\"rowing\")\n",
    "olympic_games"
   ]
  },
  {
   "cell_type": "code",
   "execution_count": 13,
   "metadata": {},
   "outputs": [
    {
     "name": "stdout",
     "output_type": "stream",
     "text": [
      "{'summer': ['diving', 'swimming', 'rowing', 'sailing'], 'winter': ['alpine skiing', 'figure skeating']}\n"
     ]
    }
   ],
   "source": [
    "# using [] and list concatenation (syntax 2)\n",
    "olympic_games[\"summer\"] += [\"sailing\"]\n",
    "print (olympic_games)"
   ]
  },
  {
   "cell_type": "code",
   "execution_count": 14,
   "metadata": {},
   "outputs": [
    {
     "name": "stdout",
     "output_type": "stream",
     "text": [
      "{'summer': ['diving', 'swimming', 'rowing', 'sailing'], 'winter': ['alpine skiing', 'figure skeating', 'snowboad']}\n"
     ]
    }
   ],
   "source": [
    "# using get and .append() (syntax 3)\n",
    "olympic_games.get(\"winter\").append(\"snowboad\")\n",
    "print (olympic_games)"
   ]
  },
  {
   "cell_type": "code",
   "execution_count": 15,
   "metadata": {},
   "outputs": [
    {
     "name": "stdout",
     "output_type": "stream",
     "text": [
      "{'summer': ['diving', 'swimming', 'rowing', 'sailing'], 'winter': ['alpine skiing', 'figure skeating', 'snowboad', 'bobsleigh']}\n"
     ]
    }
   ],
   "source": [
    "# using get and list concatenation (syntax 4)\n",
    "olympic_games[\"winter\"] = olympic_games.get(\"winter\") + [\"bobsleigh\"]\n",
    "print (olympic_games)"
   ]
  },
  {
   "cell_type": "markdown",
   "metadata": {},
   "source": [
    "- You print out all items one by one in two different ways:"
   ]
  },
  {
   "cell_type": "code",
   "execution_count": 16,
   "metadata": {},
   "outputs": [
    {
     "name": "stdout",
     "output_type": "stream",
     "text": [
      "->  summer ['diving', 'swimming', 'rowing', 'sailing']\n",
      "->  winter ['alpine skiing', 'figure skeating', 'snowboad', 'bobsleigh']\n"
     ]
    }
   ],
   "source": [
    "for k,v in olympic_games.items():\n",
    "    print (\"-> \",k,v)"
   ]
  },
  {
   "cell_type": "code",
   "execution_count": 17,
   "metadata": {},
   "outputs": [
    {
     "name": "stdout",
     "output_type": "stream",
     "text": [
      "              summer: ['diving', 'swimming', 'rowing', 'sailing']\n",
      "              winter: ['alpine skiing', 'figure skeating', 'snowboad', 'bobsleigh']\n"
     ]
    }
   ],
   "source": [
    "for k,v in olympic_games.items(): \n",
    "    print (\"{:>20}: {}\".format(k,v))"
   ]
  },
  {
   "cell_type": "markdown",
   "metadata": {},
   "source": [
    "- And finally you want to print out only the sports lists:"
   ]
  },
  {
   "cell_type": "code",
   "execution_count": 18,
   "metadata": {},
   "outputs": [
    {
     "name": "stdout",
     "output_type": "stream",
     "text": [
      "['diving', 'swimming', 'rowing', 'sailing']\n",
      "['alpine skiing', 'figure skeating', 'snowboad', 'bobsleigh']\n"
     ]
    }
   ],
   "source": [
    "for v in olympic_games.values():\n",
    "    print (v)"
   ]
  },
  {
   "cell_type": "markdown",
   "metadata": {},
   "source": [
    "---\n",
    "\n",
    "## Teaching python"
   ]
  },
  {
   "cell_type": "markdown",
   "metadata": {},
   "source": [
    "- You are teaching python to some students and you want to list their names according to the course they are attending. You start by creating a dictionary:"
   ]
  },
  {
   "cell_type": "code",
   "execution_count": 19,
   "metadata": {},
   "outputs": [],
   "source": [
    "students = {}"
   ]
  },
  {
   "cell_type": "markdown",
   "metadata": {},
   "source": [
    "- So far you have two students for the basic course and three students for the advanced course. You add their names to the dictionary:"
   ]
  },
  {
   "cell_type": "code",
   "execution_count": 20,
   "metadata": {},
   "outputs": [
    {
     "name": "stdout",
     "output_type": "stream",
     "text": [
      "{'basic': ['Paul', 'Laura'], 'advanced': ['Mohammed', 'Geetha', 'Maria']}\n"
     ]
    }
   ],
   "source": [
    "students[\"basic\"]    = [\"Paul\", \"Laura\"]\n",
    "students[\"advanced\"] = [\"Mohammed\", \"Geetha\", \"Maria\"]\n",
    "print (students)"
   ]
  },
  {
   "cell_type": "markdown",
   "metadata": {},
   "source": [
    "- You have just got four new registrations, three for the basic course, and one for the advanced course. You add the new students' names to the dictionary:"
   ]
  },
  {
   "cell_type": "code",
   "execution_count": 21,
   "metadata": {},
   "outputs": [
    {
     "data": {
      "text/plain": [
       "{'basic': ['Paul', 'Laura', 'Tom'],\n",
       " 'advanced': ['Mohammed', 'Geetha', 'Maria']}"
      ]
     },
     "execution_count": 21,
     "metadata": {},
     "output_type": "execute_result"
    }
   ],
   "source": [
    "# using [] and .append() (syntax 1)\n",
    "students[\"basic\"].append(\"Tom\")\n",
    "students"
   ]
  },
  {
   "cell_type": "code",
   "execution_count": 22,
   "metadata": {},
   "outputs": [
    {
     "name": "stdout",
     "output_type": "stream",
     "text": [
      "{'basic': ['Paul', 'Laura', 'Tom', 'Juhee'], 'advanced': ['Mohammed', 'Geetha', 'Maria']}\n"
     ]
    }
   ],
   "source": [
    "# using [] and list concatenation (syntax 2)\n",
    "students[\"basic\"] += [\"Juhee\"]\n",
    "print (students)"
   ]
  },
  {
   "cell_type": "code",
   "execution_count": 23,
   "metadata": {},
   "outputs": [
    {
     "name": "stdout",
     "output_type": "stream",
     "text": [
      "{'basic': ['Paul', 'Laura', 'Tom', 'Juhee'], 'advanced': ['Mohammed', 'Geetha', 'Maria', 'Matt']}\n"
     ]
    }
   ],
   "source": [
    "# using get and .append() (syntax 3)\n",
    "students.get(\"advanced\").append(\"Matt\")\n",
    "print (students)"
   ]
  },
  {
   "cell_type": "code",
   "execution_count": 24,
   "metadata": {},
   "outputs": [
    {
     "name": "stdout",
     "output_type": "stream",
     "text": [
      "{'basic': ['Paul', 'Laura', 'Tom', 'Juhee', 'Marc'], 'advanced': ['Mohammed', 'Geetha', 'Maria', 'Matt']}\n"
     ]
    }
   ],
   "source": [
    "# using get and list concatenation (syntax 4)\n",
    "students[\"basic\"] = students.get(\"basic\") + [\"Marc\"]\n",
    "print (students)"
   ]
  },
  {
   "cell_type": "markdown",
   "metadata": {},
   "source": [
    "- After checking the background of one of your basic class students, you realize that she/he does not need the basic course. So you move her/him from the basic to the advanced course:"
   ]
  },
  {
   "cell_type": "code",
   "execution_count": 25,
   "metadata": {},
   "outputs": [
    {
     "name": "stdout",
     "output_type": "stream",
     "text": [
      "{'basic': ['Paul', 'Tom', 'Juhee', 'Marc'], 'advanced': ['Mohammed', 'Geetha', 'Maria', 'Matt', 'Laura']}\n"
     ]
    }
   ],
   "source": [
    "students[\"basic\"].remove(\"Laura\")\n",
    "students[\"advanced\"].append(\"Laura\")\n",
    "print (students)"
   ]
  },
  {
   "cell_type": "markdown",
   "metadata": {},
   "source": [
    "- You print out all items one by one in two different ways:"
   ]
  },
  {
   "cell_type": "code",
   "execution_count": 26,
   "metadata": {},
   "outputs": [
    {
     "name": "stdout",
     "output_type": "stream",
     "text": [
      "-> basic ['Paul', 'Tom', 'Juhee', 'Marc']\n",
      "-> advanced ['Mohammed', 'Geetha', 'Maria', 'Matt', 'Laura']\n"
     ]
    }
   ],
   "source": [
    "for k,v in students.items():\n",
    "    print (\"->\",k,v)"
   ]
  },
  {
   "cell_type": "code",
   "execution_count": 27,
   "metadata": {},
   "outputs": [
    {
     "name": "stdout",
     "output_type": "stream",
     "text": [
      "   basic: ['Paul', 'Tom', 'Juhee', 'Marc']\n",
      "advanced: ['Mohammed', 'Geetha', 'Maria', 'Matt', 'Laura']\n"
     ]
    }
   ],
   "source": [
    "for k,v in students.items():\n",
    "    print (\"{:>8}: {}\".format(k,v))"
   ]
  },
  {
   "cell_type": "markdown",
   "metadata": {},
   "source": [
    "- And finally you print out only the course names: "
   ]
  },
  {
   "cell_type": "code",
   "execution_count": 28,
   "metadata": {},
   "outputs": [
    {
     "name": "stdout",
     "output_type": "stream",
     "text": [
      "basic\n",
      "advanced\n"
     ]
    }
   ],
   "source": [
    "for k in students.keys():\n",
    "    print (k)"
   ]
  },
  {
   "cell_type": "code",
   "execution_count": null,
   "metadata": {},
   "outputs": [],
   "source": []
  }
 ],
 "metadata": {
  "kernelspec": {
   "display_name": "Python 3 (ipykernel)",
   "language": "python",
   "name": "python3"
  },
  "language_info": {
   "codemirror_mode": {
    "name": "ipython",
    "version": 3
   },
   "file_extension": ".py",
   "mimetype": "text/x-python",
   "name": "python",
   "nbconvert_exporter": "python",
   "pygments_lexer": "ipython3",
   "version": "3.11.4"
  },
  "widgets": {
   "application/vnd.jupyter.widget-state+json": {
    "state": {},
    "version_major": 2,
    "version_minor": 0
   }
  }
 },
 "nbformat": 4,
 "nbformat_minor": 4
}

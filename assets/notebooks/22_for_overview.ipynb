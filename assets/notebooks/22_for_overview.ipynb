{
 "cells": [
  {
   "cell_type": "markdown",
   "metadata": {},
   "source": [
    "# 22. More about the for loop\n",
    "\n",
    "## Various ways of repeating commands on lists and beyond\n",
    "\n",
    "[Learn Python with Jupyter](https://learnpythonwithjupyter.com/) by [Serena Bonaretti](https://sbonaretti.github.io/)   \n",
    "Narrative license: [CC BY-NC-SA](https://creativecommons.org/licenses/by-nc-sa/2.0/). Code license: [GNU-GPL v3](https://www.gnu.org/licenses/gpl-3.0.en.html)  \n",
    "\n",
    "---"
   ]
  },
  {
   "cell_type": "markdown",
   "metadata": {},
   "source": [
    "\n",
    "## 1. Repeating commands\n",
    "\n",
    "- Print 3 random numbers between 1 and 10:"
   ]
  },
  {
   "cell_type": "code",
   "execution_count": null,
   "metadata": {
    "tags": []
   },
   "outputs": [],
   "source": [
    "import random\n",
    "\n",
    "for _ in range (3):\n",
    "    number = random.randint(1,10)\n",
    "    print (number)"
   ]
  },
  {
   "cell_type": "markdown",
   "metadata": {},
   "source": [
    "---\n",
    "## 2. For loops with lists"
   ]
  },
  {
   "cell_type": "markdown",
   "metadata": {
    "tags": []
   },
   "source": [
    "### 2.1. For loop through *indices*\n"
   ]
  },
  {
   "cell_type": "markdown",
   "metadata": {},
   "source": [
    "- Capitalize each string using a for loop through *indices*:"
   ]
  },
  {
   "cell_type": "code",
   "execution_count": null,
   "metadata": {},
   "outputs": [],
   "source": [
    "last_names = [\"garcia\", \"smith\", \"zhang\"]\n",
    "\n",
    "for i in range (len(last_names)):\n",
    "    print (\"The element in position \" + str(i) + \" is: \" + last_names[i])\n",
    "    last_names[i] = last_names[i].title()\n",
    "\n",
    "print (last_names)"
   ]
  },
  {
   "cell_type": "markdown",
   "metadata": {
    "tags": []
   },
   "source": [
    "### 2.2 For loop through *elements* "
   ]
  },
  {
   "cell_type": "markdown",
   "metadata": {},
   "source": [
    "- Capitalize each string using a for loop through  *elements*:"
   ]
  },
  {
   "cell_type": "code",
   "execution_count": null,
   "metadata": {},
   "outputs": [],
   "source": [
    "last_names = [\"garcia\", \"smith\", \"zhang\"]\n",
    "last_names_upper = [] \n",
    " \n",
    "for last_name in last_names:\n",
    "    print (\"The current element is: \" + last_name)\n",
    "    last_names_upper.append(last_name.title())\n",
    "\n",
    "print (last_names_upper)"
   ]
  },
  {
   "cell_type": "markdown",
   "metadata": {},
   "source": [
    "### 2.3 For loop through *indeces* and *elements* \n",
    "\n",
    "\n",
    "- Capitalize each string using a for loop through and *indeces and elements*:"
   ]
  },
  {
   "cell_type": "code",
   "execution_count": null,
   "metadata": {
    "tags": []
   },
   "outputs": [],
   "source": [
    "last_names = [\"garcia\", \"smith\", \"zhang\"]\n",
    "\n",
    "for i,last_name in enumerate (last_names):\n",
    "    print (\"The element in position \" + str(i) + \" is: \" + last_name)\n",
    "    last_names[i] = last_name.title()\n",
    "    \n",
    "print (last_names)                            "
   ]
  },
  {
   "cell_type": "markdown",
   "metadata": {},
   "source": [
    "### 2.4 List comprehension \n",
    "\n",
    "- Capitalize each string using *list comprehension* containing a for loop through *indices*:"
   ]
  },
  {
   "cell_type": "code",
   "execution_count": null,
   "metadata": {},
   "outputs": [],
   "source": [
    "last_names = [\"garcia\", \"smith\", \"zhang\"]\n",
    "last_names = [last_names[i].title() for i in range(len(last_names))] \n",
    "print (last_names)"
   ]
  },
  {
   "cell_type": "markdown",
   "metadata": {},
   "source": [
    "- Capitalize each string using *list comprehension* containing a for loop through *elements*:"
   ]
  },
  {
   "cell_type": "code",
   "execution_count": null,
   "metadata": {},
   "outputs": [],
   "source": [
    "last_names = [\"garcia\", \"smith\", \"zhang\"]\n",
    "last_names = [last_name.title() for last_name in last_names]\n",
    "print (last_names)"
   ]
  },
  {
   "cell_type": "markdown",
   "metadata": {
    "tags": []
   },
   "source": [
    "- Keep and capitalize only the elements shorter than 6 characters:"
   ]
  },
  {
   "cell_type": "code",
   "execution_count": null,
   "metadata": {},
   "outputs": [],
   "source": [
    "last_names = [\"garcia\", \"smith\", \"zhang\"]\n",
    "last_names = [last_name.title() for last_name in last_names if len(last_name) < 6]\n",
    "print (last_names)"
   ]
  },
  {
   "cell_type": "markdown",
   "metadata": {},
   "source": [
    "- Delete elements that are composed of 5 characters:"
   ]
  },
  {
   "cell_type": "code",
   "execution_count": null,
   "metadata": {},
   "outputs": [],
   "source": [
    "last_names = [\"garcia\", \"smith\", \"zhang\"]\n",
    "last_names = [last_name for last_name in last_names if len(last_name) != 5] \n",
    "print (last_names)"
   ]
  },
  {
   "cell_type": "markdown",
   "metadata": {},
   "source": [
    "---\n",
    "## 3. Nested for loops \n",
    "\n",
    "- Given the following list of vowels: "
   ]
  },
  {
   "cell_type": "code",
   "execution_count": null,
   "metadata": {},
   "outputs": [],
   "source": [
    "vowels = [\"A\", \"E\", \"I\", \"O\", \"U\"]"
   ]
  },
  {
   "cell_type": "markdown",
   "metadata": {},
   "source": [
    "- For each vowel, print all the vowels on the right:"
   ]
  },
  {
   "cell_type": "code",
   "execution_count": null,
   "metadata": {},
   "outputs": [],
   "source": [
    "for i in range (len(vowels)): \n",
    "    print (\"-- \" + vowels[i])\n",
    "    for j in range(i+1, len(vowels)):\n",
    "        print (vowels[j])"
   ]
  }
 ],
 "metadata": {
  "kernelspec": {
   "display_name": "Python 3 (ipykernel)",
   "language": "python",
   "name": "python3"
  },
  "language_info": {
   "codemirror_mode": {
    "name": "ipython",
    "version": 3
   },
   "file_extension": ".py",
   "mimetype": "text/x-python",
   "name": "python",
   "nbconvert_exporter": "python",
   "pygments_lexer": "ipython3",
   "version": "3.11.4"
  },
  "widgets": {
   "application/vnd.jupyter.widget-state+json": {
    "state": {},
    "version_major": 2,
    "version_minor": 0
   }
  }
 },
 "nbformat": 4,
 "nbformat_minor": 4
}

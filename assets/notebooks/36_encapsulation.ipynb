{
 "cells": [
  {
   "cell_type": "markdown",
   "id": "cf21520b-18e1-45b7-bcfd-18447391192c",
   "metadata": {},
   "source": [
    "# 36. Securing the online store\n",
    "\n",
    "## Encapsulation\n",
    "\n",
    "[Learn Python with Jupyter](https://learnpythonwithjupyter.com/) by [Serena Bonaretti](https://sbonaretti.github.io/)   \n",
    "Narrative license: [CC BY-NC-SA](https://creativecommons.org/licenses/by-nc-sa/2.0/). Code license: [GNU-GPL v3](https://www.gnu.org/licenses/gpl-3.0.en.html)  \n",
    "\n",
    "---"
   ]
  },
  {
   "cell_type": "markdown",
   "id": "7fb3eb47-fd10-419a-b67a-b7c78d1944f4",
   "metadata": {},
   "source": [
    "- While filling out the online store, you realize that you want to minimize errors that could compromise revenue. Thus, you make the attributes representing price and discount private and create get and set methods to access them. In addition, you realize that you need to include the tax amount in the calculation of the final price. Therefore, you implement a private method that calculates the tax amount and modify `calculate_price()` accordingly:"
   ]
  },
  {
   "cell_type": "code",
   "execution_count": null,
   "id": "80204be2-e7bf-4c16-a4ae-9514fc1e9ab8",
   "metadata": {},
   "outputs": [],
   "source": [
    "class Product:\n",
    "    \"\"\"Class representing a product\"\"\"\n",
    "    \n",
    "    # --- CONSTRUCTOR -------------------\n",
    "    def __init__(self, name):\n",
    "        \"\"\"Class constructor\"\"\"\n",
    "        self.name       = name\n",
    "        self.__price    = 0           # modified\n",
    "        self.__discount = 0           # modified \n",
    "        self.__tax_rate = 0.02        # added <----- modify it to 0.02?\n",
    "\n",
    "    \n",
    "    # --- GET/SET METHODS ---------------  \n",
    "    def get_price(self):              # added\n",
    "        \"\"\"Gets the price value\"\"\"\n",
    "        return self.__price\n",
    "\n",
    "    def set_price(self, price):       # added\n",
    "        \"\"\"Sets the price value\"\"\"\n",
    "        if isinstance(price, (int, float)) and price > 0:\n",
    "            self.__price = price\n",
    "        else:\n",
    "            raise ValueError(\"Price must be a number greater than 0\")\n",
    "\n",
    "    def get_discount(self):           # added\n",
    "        \"\"\"Gets the discount value\"\"\"\n",
    "        return self.__discount\n",
    "\n",
    "    def set_discount(self, discount): # added\n",
    "        \"\"\"Sets the discount value\"\"\"\n",
    "        if isinstance(discount, (int, float)) and 0 < discount < self.__price:\n",
    "            self.__discount = discount\n",
    "        else:\n",
    "            raise ValueError(\"Discount must be a number greater than 0 and less than the product's price\")\n",
    "\n",
    "   \n",
    "    # --- METHODS -----------------------    \n",
    "    def apply_coupon(self, coupon):                      \n",
    "        \"\"\"Updates discount based on a coupon\"\"\"\n",
    "        if coupon == \"SAVE4\":\n",
    "            self.__discount = self.__discount + 4        # modified\n",
    "            print (\"Coupon SAVE4 applied!\")\n",
    "        elif coupon == \"SUMMER10\":\n",
    "            self.__discount = self.__discount + 10       # modified\n",
    "            print (\"Coupon SUMMER10 applied!\")\n",
    "        else:\n",
    "            print (\"Your coupon is not valid\")\n",
    "\n",
    "    def __calculate_tax(self, price):                    # added\n",
    "        \"\"\"Calculates tax on price\"\"\"\n",
    "        tax = round(price * self.__tax_rate, 2)\n",
    "        print (\"Tax amount on\", price, \"coins:\", tax, \"coins\")\n",
    "        return tax\n",
    "    \n",
    "    def calculate_price(self):\n",
    "        \"\"\"Calculates price after discount and tax\"\"\"\n",
    "        # calculate the discounted price\n",
    "        discounted_price = self.__price - self.__discount   # modified\n",
    "        # calculate tax on the discounted price        \n",
    "        tax = self.__calculate_tax(discounted_price)        # added\n",
    "        # add tax to the discounted price               \n",
    "        taxed_price = discounted_price + tax                # added            \n",
    "        return taxed_price                             \n",
    "        \n",
    "    \n",
    "    # --- BUILT-IN METHOD ---------------\n",
    "    def __str__(self): \n",
    "        \"\"\"Prints the object characteristics\"\"\"\n",
    "        return \"Name: \" + self.name"
   ]
  },
  {
   "cell_type": "markdown",
   "id": "7f6718d1-e6ab-4572-a1fc-6ac2d83f751e",
   "metadata": {},
   "source": [
    "- To test the new code, you fill out again the T-shirt with with its details, that is, name: *Feel good*; original price: 30 coins; launch discount: 4 coins. Then, you calculate the T-shirt price before and after applying the coupon `SAVE4`:"
   ]
  },
  {
   "cell_type": "code",
   "execution_count": null,
   "id": "e789c3c3-1a31-40be-9aba-5e8a4f2c78dd",
   "metadata": {},
   "outputs": [],
   "source": [
    "# creating the object\n",
    "t_shirt = Product(\"Feel good\")\n",
    "print (\"Name:\", t_shirt.name)\n",
    "\n",
    "# providing and retrieving the original price\n",
    "print (\"-> Original price\")\n",
    "t_shirt.set_price(30)\n",
    "print (\"Price:\", t_shirt.get_price(), \"coins\")\n",
    "\n",
    "# providing and retrieving the discount\n",
    "print (\"-> Launch discount\")\n",
    "t_shirt.set_discount(4)\n",
    "print (\"Launch discount:\", t_shirt.get_discount(), \"coins\")\n",
    "\n",
    "# calculating the price after launch discount and tax\n",
    "print (\"-> Price after launch discount and tax\")\n",
    "t_shirt_price = t_shirt.calculate_price()\n",
    "print (\"Price:\", t_shirt_price, \"coins\")\n",
    "\n",
    "# applying the coupon and calculating the price\n",
    "print (\"-> Price after launch discount, coupon, and tax\")\n",
    "t_shirt.apply_coupon (\"SAVE4\")\n",
    "t_shirt_price = t_shirt.calculate_price()\n",
    "print (\"Price:\", t_shirt_price, \"coins\")"
   ]
  }
 ],
 "metadata": {
  "kernelspec": {
   "display_name": "Python 3 (ipykernel)",
   "language": "python",
   "name": "python3"
  },
  "language_info": {
   "codemirror_mode": {
    "name": "ipython",
    "version": 3
   },
   "file_extension": ".py",
   "mimetype": "text/x-python",
   "name": "python",
   "nbconvert_exporter": "python",
   "pygments_lexer": "ipython3",
   "version": "3.9.6"
  }
 },
 "nbformat": 4,
 "nbformat_minor": 5
}

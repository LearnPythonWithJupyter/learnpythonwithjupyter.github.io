{
 "cells": [
  {
   "cell_type": "markdown",
   "metadata": {},
   "source": [
    "# 26. Counting, compressing, and sorting\n",
    "\n",
    "\n",
    "## What are dictionaries for?\n",
    "\n",
    "\n",
    "[Learn Python with Jupyter](https://learnpythonwithjupyter.com/) by [Serena Bonaretti](https://sbonaretti.github.io/)   \n",
    "Narrative license: [CC BY-NC-SA](https://creativecommons.org/licenses/by-nc-sa/2.0/)   \n",
    "Code license: [GNU-GPL v3](https://www.gnu.org/licenses/gpl-3.0.en.html)  "
   ]
  },
  {
   "cell_type": "markdown",
   "metadata": {},
   "source": [
    "--- \n",
    "## 1. Counting elements"
   ]
  },
  {
   "cell_type": "markdown",
   "metadata": {},
   "source": [
    "- Given the following string:"
   ]
  },
  {
   "cell_type": "code",
   "execution_count": null,
   "metadata": {},
   "outputs": [],
   "source": [
    "greetings = \"hello! how are you?\""
   ]
  },
  {
   "cell_type": "markdown",
   "metadata": {},
   "source": [
    "- Create a dictionary where the keys are the letters of the alphabet found in the string, and the corresponding values are the number of times each letter is present. Write the code in two ways: (1) using `if`/`else`, and (2) using `.get()` \n",
    "\n",
    "1. Using `if`/`else`:"
   ]
  },
  {
   "cell_type": "code",
   "execution_count": null,
   "metadata": {
    "scrolled": true
   },
   "outputs": [],
   "source": [
    "letter_counter = {}\n",
    "\n",
    "for letter in greetings:\n",
    "    if letter not in letter_counter.keys():\n",
    "        letter_counter[letter] = 1\n",
    "    else:\n",
    "        letter_counter[letter] += 1   \n",
    "\n",
    "for k, v in letter_counter.items():\n",
    "    print (k, v)"
   ]
  },
  {
   "cell_type": "markdown",
   "metadata": {
    "tags": []
   },
   "source": [
    "2. Using `.get()`:"
   ]
  },
  {
   "cell_type": "code",
   "execution_count": null,
   "metadata": {},
   "outputs": [],
   "source": [
    "letter_counter = {}\n",
    "\n",
    "for letter in greetings:\n",
    "    letter_counter[letter] = letter_counter.get(letter, 0) + 1\n",
    "\n",
    "for k, v in letter_counter.items():\n",
    "    print (k, v)  "
   ]
  },
  {
   "cell_type": "markdown",
   "metadata": {},
   "source": [
    "---\n",
    "## 2. Compressing information"
   ]
  },
  {
   "cell_type": "markdown",
   "metadata": {},
   "source": [
    "- Given the following list:"
   ]
  },
  {
   "cell_type": "code",
   "execution_count": null,
   "metadata": {},
   "outputs": [],
   "source": [
    "sparse_vector = [0,0,0,1,0,7,0,0,4,0,0,0,8,0,0,0,6,0,0,0,0,0,0,0,9,0,0]"
   ]
  },
  {
   "cell_type": "markdown",
   "metadata": {},
   "source": [
    "- Convert it into a dictionary:"
   ]
  },
  {
   "cell_type": "code",
   "execution_count": null,
   "metadata": {},
   "outputs": [],
   "source": [
    "# create the dictionary\n",
    "sparse_dict = {}\n",
    "for i in range(len(sparse_vector)):\n",
    "    if sparse_vector[i] != 0:\n",
    "        sparse_dict[i] = sparse_vector[i]\n",
    "\n",
    "# save the list length \n",
    "sparse_dict[\"length\"] = len(sparse_vector) \n",
    "        \n",
    "# print\n",
    "for k,v in sparse_dict.items():\n",
    "    print (k,v) "
   ]
  },
  {
   "cell_type": "markdown",
   "metadata": {},
   "source": [
    "- How do we get back to the sparse vector? "
   ]
  },
  {
   "cell_type": "code",
   "execution_count": null,
   "metadata": {},
   "outputs": [],
   "source": [
    "# create a list of zeros\n",
    "sparse_vector_back = [0] * sparse_dict[\"length\"]\n",
    "\n",
    "# add nonzero values\n",
    "for k,v in sparse_dict.items():\n",
    "    if k != \"length\":\n",
    "        sparse_vector_back[k] = v \n",
    "\n",
    "# print\n",
    "print (sparse_vector_back)"
   ]
  },
  {
   "cell_type": "markdown",
   "metadata": {},
   "source": [
    "---\n",
    "## 3. Sorting dictionary"
   ]
  },
  {
   "cell_type": "markdown",
   "metadata": {},
   "source": [
    "- Given the following dictionary:"
   ]
  },
  {
   "cell_type": "code",
   "execution_count": null,
   "metadata": {},
   "outputs": [],
   "source": [
    "registry = {\"Shaili\":4, \"Chris\":90, \"Maria\":70}"
   ]
  },
  {
   "cell_type": "markdown",
   "metadata": {},
   "source": [
    "- Sort the dictionary items according to their *keys*:"
   ]
  },
  {
   "cell_type": "code",
   "execution_count": null,
   "metadata": {},
   "outputs": [],
   "source": [
    "# create a new dictionary\n",
    "sorted_registry= {}\n",
    "\n",
    "# sort the keys\n",
    "sorted_keys = list(registry.keys())\n",
    "sorted_keys.sort()\n",
    "\n",
    "# fill out the new dictionary\n",
    "for k in sorted_keys:\n",
    "    sorted_registry[k] = registry[k]\n",
    "    \n",
    "print (sorted_registry)"
   ]
  },
  {
   "cell_type": "markdown",
   "metadata": {},
   "source": [
    "-  Sort the dictionary items according to their *values*:"
   ]
  },
  {
   "cell_type": "code",
   "execution_count": null,
   "metadata": {},
   "outputs": [],
   "source": [
    "# create a new dictionary\n",
    "sorted_registry = {}\n",
    "\n",
    "# sort keys according to values \n",
    "sorted_keys = sorted(registry, key=registry.get) \n",
    "\n",
    "# fill out the new dictionary\n",
    "for k in sorted_keys:\n",
    "    sorted_registry[k] = registry[k]\n",
    "    \n",
    "print (sorted_registry)"
   ]
  }
 ],
 "metadata": {
  "kernelspec": {
   "display_name": "Python 3 (ipykernel)",
   "language": "python",
   "name": "python3"
  },
  "language_info": {
   "codemirror_mode": {
    "name": "ipython",
    "version": 3
   },
   "file_extension": ".py",
   "mimetype": "text/x-python",
   "name": "python",
   "nbconvert_exporter": "python",
   "pygments_lexer": "ipython3",
   "version": "3.11.7"
  },
  "widgets": {
   "application/vnd.jupyter.widget-state+json": {
    "state": {},
    "version_major": 2,
    "version_minor": 0
   }
  }
 },
 "nbformat": 4,
 "nbformat_minor": 4
}

{
 "cells": [
  {
   "cell_type": "markdown",
   "metadata": {},
   "source": [
    "# 33. Birthday presents\n",
    "\n",
    "## Reading and writing *.txt* files\n",
    "\n",
    "[Learn Python with Jupyter](https://learnpythonwithjupyter.com/) by [Serena Bonaretti](https://sbonaretti.github.io/)   \n",
    "Narrative license: [CC BY-NC-SA](https://creativecommons.org/licenses/by-nc-sa/2.0/). Code license: [GNU-GPL v3](https://www.gnu.org/licenses/gpl-3.0.en.html)  \n",
    "\n",
    "---"
   ]
  },
  {
   "cell_type": "markdown",
   "metadata": {},
   "source": [
    "- Three of your friends celebrated their birthday this month, and you bought them presents online.\n",
    "Now, it’s time to perform a purchase analysis and save it in your records. The purchase amounts\n",
    "are in the file *33_purchases.txt*"
   ]
  },
  {
   "cell_type": "markdown",
   "metadata": {},
   "source": [
    "---\n",
    "## 1. Reading a .txt file\n",
    "\n",
    "- Write a function that reads a `.txt` file containing one number per row and stores the numbers into a list:"
   ]
  },
  {
   "cell_type": "code",
   "execution_count": null,
   "metadata": {},
   "outputs": [],
   "source": [
    "def read_txt (file_name_in):\n",
    "    \"\"\"Reads a .txt file with one number per row and returns them as a list\n",
    "    \n",
    "    Parameters\n",
    "    ----------\n",
    "    file_name_in: string\n",
    "        Name of the file to read\n",
    "    \n",
    "    Returns\n",
    "    -------\n",
    "    numbers : list\n",
    "        File content in a list of numbers\n",
    "    \"\"\"\n",
    "\n",
    "    # initialize output\n",
    "    numbers = []\n",
    "    \n",
    "    # open the file\n",
    "    with open(file_name_in, \"r\") as file:\n",
    "    \n",
    "        # read the file\n",
    "        for line in file:\n",
    "            print (\"line as read:\", line)\n",
    "            \n",
    "            # remove \"\\n\" from line\n",
    "            line = line.rstrip(\"\\n\")\n",
    "            print (\"line after stripping:\", line)\n",
    "            print (\"-----\")\n",
    "            \n",
    "            # get only the non-empty lines\n",
    "            if line != \"\":\n",
    "                \n",
    "                # transform the number to float\n",
    "                number = float(line)\n",
    "                \n",
    "                # add to the output list\n",
    "                numbers.append(number)\n",
    "        \n",
    "    # return the output\n",
    "    return numbers\n",
    "\n",
    "# call the function and print the output\n",
    "purchases = read_txt(\"33_purchases.txt\")\n",
    "print (\"purchases:\", purchases)"
   ]
  },
  {
   "cell_type": "markdown",
   "metadata": {},
   "source": [
    "- More compact alternative:"
   ]
  },
  {
   "cell_type": "code",
   "execution_count": null,
   "metadata": {},
   "outputs": [],
   "source": [
    "def read_txt_compact (file_name_in):\n",
    "    \"\"\"Reads a .txt file containing a column of numbers\n",
    "    \n",
    "    Parameters\n",
    "    ----------\n",
    "    file_name_in : string\n",
    "        Name of the file to read\n",
    "    \n",
    "    Returns\n",
    "    -------\n",
    "    numbers : list\n",
    "        File content in a list of numbers\n",
    "    \"\"\"\n",
    "    \n",
    "    # open the file\n",
    "    with open(file_name_in, \"r\") as file:\n",
    "        \n",
    "        # read the numbers and transform them into floats\n",
    "        numbers = [float(number) for number in file.read().split()]\n",
    "        \n",
    "    # return the output\n",
    "    return numbers\n",
    "\n",
    "# call the function and print the output\n",
    "purchases_compact = read_txt_compact(\"33_purchases.txt\")\n",
    "print (\"purchases:\", purchases_compact)"
   ]
  },
  {
   "cell_type": "markdown",
   "metadata": {},
   "source": [
    "--- \n",
    "## 2. Analyzing the numbers"
   ]
  },
  {
   "cell_type": "markdown",
   "metadata": {},
   "source": [
    "- Write a function that takes a list of numbers as input and returns the minimum, maximum, and sum as separate variables."
   ]
  },
  {
   "cell_type": "code",
   "execution_count": null,
   "metadata": {},
   "outputs": [],
   "source": [
    "def calculate_stats(numbers):  \n",
    "    \"\"\"Returning minimum, maximum, and sum of a list of numbers \n",
    "    \n",
    "    Parameters\n",
    "    ----------\n",
    "    numbers: list \n",
    "        Contains numbers\n",
    "    \n",
    "    Returns\n",
    "    -------\n",
    "    minimum : float\n",
    "        Minimum of the list\n",
    "    maximum : float \n",
    "        Maximum of the list\n",
    "    total : float\n",
    "        Sum of the list numbers\n",
    "    \"\"\"\n",
    "    \n",
    "    # calculate the minimum\n",
    "    minimum = min(numbers)\n",
    "\n",
    "    # calculate the maximum\n",
    "    maximum = max(numbers) \n",
    "\n",
    "    # calculate the sum\n",
    "    total = sum(numbers)\n",
    "\n",
    "    # return the stats\n",
    "    return minimum, maximum, total\n",
    "\n",
    "# call the function\n",
    "mn, mx, tot = calculate_stats(purchases)\n",
    "print (\"minimum:\", mn)\n",
    "print (\"maximum:\", mx)\n",
    "print (\"total:\", tot)"
   ]
  },
  {
   "cell_type": "markdown",
   "metadata": {},
   "source": [
    "---\n",
    "## 3. Saving the analysis \n",
    "\n",
    "- Create a function that given minimum, maximum, and total, writes them to file on three consecutive lines, specifying what they represent:"
   ]
  },
  {
   "cell_type": "code",
   "execution_count": null,
   "metadata": {},
   "outputs": [],
   "source": [
    "def write_txt(file_name_out, minimum, maximum, total):\n",
    "    \"\"\"Writing minimum, maximum, and sum to a file\n",
    "    \n",
    "    Parameters\n",
    "    ----------\n",
    "    file_name_out: string\n",
    "        Name of the file to write\n",
    "    minimum: float\n",
    "        Minimum of the list\n",
    "    maximum: float \n",
    "        Maximum of the list\n",
    "    total: float\n",
    "        Sum of the numbers in the list\n",
    "    \"\"\"\n",
    "    \n",
    "    # open the file to write\n",
    "    with open(file_name_out, \"w\") as file:\n",
    "    \n",
    "        # write the file content\n",
    "        file.write (\"minimum: \" + str(minimum) + \"\\n\")\n",
    "        file.write (\"maximum: \" + str(maximum) + \"\\n\")\n",
    "        file.write (\"total: \" + str(total))\n",
    "\n",
    "# call the function\n",
    "write_txt(\"33_purchases_stats.txt\", mn, mx, tot)    "
   ]
  }
 ],
 "metadata": {
  "kernelspec": {
   "display_name": "Python 3 (ipykernel)",
   "language": "python",
   "name": "python3"
  },
  "language_info": {
   "codemirror_mode": {
    "name": "ipython",
    "version": 3
   },
   "file_extension": ".py",
   "mimetype": "text/x-python",
   "name": "python",
   "nbconvert_exporter": "python",
   "pygments_lexer": "ipython3",
   "version": "3.9.6"
  },
  "widgets": {
   "application/vnd.jupyter.widget-state+json": {
    "state": {},
    "version_major": 2,
    "version_minor": 0
   }
  }
 },
 "nbformat": 4,
 "nbformat_minor": 4
}

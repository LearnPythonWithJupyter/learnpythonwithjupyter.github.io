{
 "cells": [
  {
   "cell_type": "markdown",
   "metadata": {},
   "source": [
    "# 29. Login database for an online store\n",
    "\n",
    "## Function outputs and modular design\n",
    "\n",
    "[Learn Python with Jupyter](https://learnpythonwithjupyter.com/) by [Serena Bonaretti](https://sbonaretti.github.io/)   \n",
    "Narrative license: [CC BY-NC-SA](https://creativecommons.org/licenses/by-nc-sa/2.0/). Code license: [GNU-GPL v3](https://www.gnu.org/licenses/gpl-3.0.en.html)  \n",
    "\n",
    "---"
   ]
  },
  {
   "cell_type": "markdown",
   "metadata": {},
   "source": [
    "- You are the owner of an online shop and need to securely store usernames and passwords of your\n",
    "customers. Create a database where usernames are composed of the initial of the customer’s first name followed by their last name (e.g., “jsmith”), and passwords consist of a four-digit code"
   ]
  },
  {
   "cell_type": "markdown",
   "metadata": {},
   "source": [
    "---\n",
    "## 1. Creating a username"
   ]
  },
  {
   "cell_type": "markdown",
   "metadata": {},
   "source": [
    "- Write a function that creates a username composed of the initial of the first name and the last name:"
   ]
  },
  {
   "cell_type": "code",
   "execution_count": null,
   "metadata": {},
   "outputs": [],
   "source": [
    "def create_username (first_name, last_name):\n",
    "    \"\"\"Create a lowercase username made of initial of first name and full last name\n",
    "    \n",
    "    Parameters\n",
    "    ----------\n",
    "    first_name: string \n",
    "        First name of a person\n",
    "    last_name: string\n",
    "        Last name of a person\n",
    "        \n",
    "    Returns    \n",
    "    -------\n",
    "    username: string\n",
    "        Created username    \n",
    "    \"\"\"\n",
    "    \n",
    "    # concatenate initial of first name and last name\n",
    "    username = first_name[0] + last_name\n",
    "    # make sure username is lowercase\n",
    "    username = username.lower()\n",
    "    \n",
    "    # return username\n",
    "    return username"
   ]
  },
  {
   "cell_type": "markdown",
   "metadata": {},
   "source": [
    "- Test the function for two customers:"
   ]
  },
  {
   "cell_type": "code",
   "execution_count": null,
   "metadata": {},
   "outputs": [],
   "source": [
    "username_1 = create_username (\"Julia\", \"Smith\")  \n",
    "print (username_1)"
   ]
  },
  {
   "cell_type": "code",
   "execution_count": null,
   "metadata": {},
   "outputs": [],
   "source": [
    "username_2 = create_username (\"Mohammed\", \"Seid\")\n",
    "print (username_2)"
   ]
  },
  {
   "cell_type": "markdown",
   "metadata": {},
   "source": [
    "---\n",
    "## 2. Creating a password\n",
    "- Write a function that creates a password composed of four random integers:"
   ]
  },
  {
   "cell_type": "code",
   "execution_count": null,
   "metadata": {},
   "outputs": [],
   "source": [
    "import random\n",
    "\n",
    "def create_password():\n",
    "    \"\"\"Create a password composed of four random integers \n",
    "        \n",
    "    Returns    \n",
    "    -------\n",
    "    password: string\n",
    "        Created password  \n",
    "    \"\"\"\n",
    "    \n",
    "    # create a random number with four digits\n",
    "    password = str(random.randint(1000,9999))\n",
    "     \n",
    "    # return password\n",
    "    return password"
   ]
  },
  {
   "cell_type": "markdown",
   "metadata": {},
   "source": [
    "- Test the function for two customers:"
   ]
  },
  {
   "cell_type": "code",
   "execution_count": null,
   "metadata": {},
   "outputs": [],
   "source": [
    "password_1 = create_password()\n",
    "print (password_1)"
   ]
  },
  {
   "cell_type": "code",
   "execution_count": null,
   "metadata": {},
   "outputs": [],
   "source": [
    "password_2 = create_password()\n",
    "print (password_2)"
   ]
  },
  {
   "cell_type": "markdown",
   "metadata": {},
   "source": [
    "---\n",
    "## 3. Creating a database\n",
    "\n",
    "- Write a function that, given a list of lists of customers, creates and returns a database (i.e., a dictionary) of usernames and passwords. The function also returns the number of customers in the\n",
    "database:"
   ]
  },
  {
   "cell_type": "code",
   "execution_count": null,
   "metadata": {},
   "outputs": [],
   "source": [
    "def create_database (customers): \n",
    "    \"\"\"Creates a database as a dictionary with usernames as keys and passwords as values  \n",
    "    \n",
    "    Parameters\n",
    "    ----------\n",
    "    customers : list of lists\n",
    "        Each sublist contains first name and last name of a customer\n",
    "        \n",
    "    Returns    \n",
    "    -------\n",
    "    db : dictionary\n",
    "        Created database (shorted as db)\n",
    "    n_customers : int\n",
    "        Number of customers in the database\n",
    "    \"\"\"\n",
    "    \n",
    "    # initialize dictionary (i.e. database)\n",
    "    db = {}\n",
    "    \n",
    "    # for each customer\n",
    "    for customer in customers:\n",
    "\n",
    "        # create username\n",
    "        username = create_username (customer[0], customer[1])\n",
    "\n",
    "        # create password\n",
    "        password = create_password()  \n",
    "        \n",
    "        # add username and password to db\n",
    "        db[username] = password\n",
    "        \n",
    "    # compute number of customers \n",
    "    n_customers = len(db)\n",
    "\n",
    "    # return dictionary and its length\n",
    "    return db, n_customers"
   ]
  },
  {
   "cell_type": "markdown",
   "metadata": {},
   "source": [
    "- Given the following list of customers:"
   ]
  },
  {
   "cell_type": "code",
   "execution_count": null,
   "metadata": {},
   "outputs": [],
   "source": [
    "customers = [[\"Maria\", \"Lopez\"], [\"Julia\", \"Smith\"], [\"Mohammed\", \"Seid\"]]"
   ]
  },
  {
   "cell_type": "markdown",
   "metadata": {},
   "source": [
    "- Create the database using two different syntaxes:"
   ]
  },
  {
   "cell_type": "code",
   "execution_count": null,
   "metadata": {},
   "outputs": [],
   "source": [
    "# create the database - separate returns\n",
    "database, number_customers = create_database(customers)\n",
    "\n",
    "# print the outputs\n",
    "print (\"Database:\", database)\n",
    "print (\"Number of customers:\", number_customers)            "
   ]
  },
  {
   "cell_type": "code",
   "execution_count": null,
   "metadata": {},
   "outputs": [],
   "source": [
    "# create the database - single return\n",
    "outputs = create_database(customers)\n",
    "print (\"Output tuple:\", outputs)\n",
    "\n",
    "# get and print the database\n",
    "database = outputs[0]\n",
    "print(\"Database:\", database)\n",
    "          \n",
    "# get and print the number of customers\n",
    "number_customers = outputs[1]\n",
    "print (\"Number of customers:\", number_customers)            "
   ]
  }
 ],
 "metadata": {
  "kernelspec": {
   "display_name": "Python 3 (ipykernel)",
   "language": "python",
   "name": "python3"
  },
  "language_info": {
   "codemirror_mode": {
    "name": "ipython",
    "version": 3
   },
   "file_extension": ".py",
   "mimetype": "text/x-python",
   "name": "python",
   "nbconvert_exporter": "python",
   "pygments_lexer": "ipython3",
   "version": "3.9.6"
  },
  "widgets": {
   "application/vnd.jupyter.widget-state+json": {
    "state": {},
    "version_major": 2,
    "version_minor": 0
   }
  }
 },
 "nbformat": 4,
 "nbformat_minor": 4
}

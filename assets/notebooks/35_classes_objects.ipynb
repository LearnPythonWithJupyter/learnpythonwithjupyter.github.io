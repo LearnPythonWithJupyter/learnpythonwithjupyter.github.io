{
 "cells": [
  {
   "cell_type": "markdown",
   "id": "cf21520b-18e1-45b7-bcfd-18447391192c",
   "metadata": {},
   "source": [
    "# 35. Let's build an online store! \n",
    "\n",
    "## Classes and objects, attributes and methods\n",
    "\n",
    "[Learn Python with Jupyter](https://learnpythonwithjupyter.com/) by [Serena Bonaretti](https://sbonaretti.github.io/)   \n",
    "Narrative license: [CC BY-NC-SA](https://creativecommons.org/licenses/by-nc-sa/2.0/). Code license: [GNU-GPL v3](https://www.gnu.org/licenses/gpl-3.0.en.html)  \n",
    "\n",
    "---"
   ]
  },
  {
   "cell_type": "markdown",
   "id": "7fb3eb47-fd10-419a-b67a-b7c78d1944f4",
   "metadata": {},
   "source": [
    "- You are building a new online store where you will sell various types of products. Each product will have a similar webpage containing characteristics such as name, original price, and discount. In addition, there will also be two possible actions: apply coupon (to add the value of a coupon to the discount) and calculate price (to calculate an item price)\n",
    "\n",
    "1. Create a template for the webpage and then customize it for a T-shirt and a lamp with the following characteristics:\n",
    "  - T-shirt: name: Feel good, original price: 30 coins, launch discount: 4 coins\n",
    "  - Lamp: name: Lux, original price: 40 coins, no launch discount\n",
    "2. Then, execute these actions for each product:\n",
    "  - Calculate the price after the discount\n",
    "  - Calculate the price after adding the coupon SAVE4 worth 4 coins to the T-shirt and the coupon SUMMER10 worth 10 coins to the lamp"
   ]
  },
  {
   "cell_type": "markdown",
   "id": "a87910cc-729c-41e8-9908-13abe69b3818",
   "metadata": {},
   "source": [
    "## 1. Class, objects, and attributes"
   ]
  },
  {
   "cell_type": "markdown",
   "id": "1a8d5f40-137f-4997-860a-57b260ef87fd",
   "metadata": {},
   "source": [
    "- Here is the class representing a product and its attributes: "
   ]
  },
  {
   "cell_type": "code",
   "execution_count": null,
   "id": "bd8b24e6-9e6e-4797-9cd2-176bbdf21f2a",
   "metadata": {},
   "outputs": [],
   "source": [
    "class Product:\n",
    "    \"\"\"Class representing a product\"\"\"\n",
    "\n",
    "    # --- CONSTRUCTOR -------------------\n",
    "    def __init__(self, name):\n",
    "        \"\"\"Constructor\"\"\"\n",
    "        self.name     = name\n",
    "        self.price    = 0 \n",
    "        self.discount = 0"
   ]
  },
  {
   "cell_type": "markdown",
   "id": "b37da02a-efbb-4404-94d4-308d4a14dfbf",
   "metadata": {},
   "source": [
    "- Here is the object `t_shirt` with its attributes at instantiation and after customization:"
   ]
  },
  {
   "cell_type": "code",
   "execution_count": null,
   "id": "0cb2b0b6-1acf-4942-be4b-c1d4b07deee8",
   "metadata": {},
   "outputs": [],
   "source": [
    "t_shirt = Product(\"Feel good\")\n",
    "\n",
    "print(\"-> Attributes of the object t_shirt at instantiation:\")\n",
    "print(\"Name:\", t_shirt.name)\n",
    "print(\"Price:\", t_shirt.price, \"coins\")\n",
    "print(\"Discount:\", t_shirt.discount, \"coins\")\n",
    "\n",
    "print(\"-> Attributes of the object t_shirt after customization:\")\n",
    "t_shirt.price = 30\n",
    "print(\"Price:\", t_shirt.price, \"coins\")\n",
    "t_shirt.discount = 4\n",
    "print(\"Discount:\", t_shirt.discount, \"coins\")"
   ]
  },
  {
   "cell_type": "markdown",
   "id": "acdbd8f0-8bfd-478c-8986-35657fc91e81",
   "metadata": {},
   "source": [
    "- Here is the object `lamp` with its attributes:"
   ]
  },
  {
   "cell_type": "code",
   "execution_count": null,
   "id": "38879826-d5de-4941-a27e-ae16063b4f4b",
   "metadata": {},
   "outputs": [],
   "source": [
    "lamp = Product(\"Lux\")\n",
    "lamp.price = 40\n",
    "print (\"Name:\", lamp.name)\n",
    "print (\"Price:\", lamp.price, \"coins\")\n",
    "print (\"Discount:\", lamp.discount, \"coins\")"
   ]
  },
  {
   "cell_type": "markdown",
   "id": "9194df8e-f81c-48a9-a42f-421f65b20e2d",
   "metadata": {},
   "source": [
    "## 2. Methods"
   ]
  },
  {
   "cell_type": "markdown",
   "id": "f8b56930-9853-4cc2-ac15-db14e7201b59",
   "metadata": {},
   "source": [
    "- Here is the complete class with its attributes and methods:"
   ]
  },
  {
   "cell_type": "code",
   "execution_count": null,
   "id": "85f436fc-81ca-4d39-a4f7-6a4b3b170764",
   "metadata": {},
   "outputs": [],
   "source": [
    "class Product:\n",
    "    \"\"\"Class representing a product\"\"\"\n",
    "\n",
    "    # --- CONSTRUCTOR -------------------\n",
    "    def __init__(self, name):\n",
    "        \"\"\"Constructor\"\"\"\n",
    "        self.name     = name\n",
    "        self.price    = 0 \n",
    "        self.discount = 0\n",
    "\n",
    "    \n",
    "    # --- METHODS ----------------------- \n",
    "    def apply_coupon(self, coupon):               # added\n",
    "        \"\"\"Updates discount based on a coupon\"\"\"\n",
    "        if coupon == \"SAVE4\":\n",
    "            self.discount = self.discount + 4\n",
    "            print (\"Coupon SAVE4 applied!\")\n",
    "        elif coupon == \"SUMMER10\":\n",
    "            self.discount = self.discount + 10\n",
    "            print (\"Coupon SUMMER10 applied!\")\n",
    "        else:\n",
    "            print (\"Your coupon is not valid\")\n",
    "    \n",
    "    def calculate_price(self):                    # added\n",
    "        \"\"\"Calculates price after discount and coupon\"\"\"\n",
    "        updated_price = self.price - self.discount\n",
    "        return updated_price\n",
    "\n",
    "    \n",
    "    # --- BUILT-IN METHOD ---------------\n",
    "    def __str__(self):                            # added\n",
    "        \"\"\"Prints the object characteristics\"\"\"\n",
    "        return \"Name: \" + self.name"
   ]
  },
  {
   "cell_type": "markdown",
   "id": "2500055a-a8a7-49c7-9b77-63563f60c16e",
   "metadata": {},
   "source": [
    "- Instantiate the object *t_shirt* with its attributes. Then, calculate the price after discount, and the price after discount and coupon:"
   ]
  },
  {
   "cell_type": "code",
   "execution_count": null,
   "id": "4bf07cf3-a983-4259-bfc0-ea68ad953c24",
   "metadata": {},
   "outputs": [],
   "source": [
    "# instantiating the object with its attributes \n",
    "t_shirt = Product(\"Feel good\")\n",
    "t_shirt.price = 30\n",
    "t_shirt.discount = 4\n",
    "print (\"Name:\", t_shirt.name, \"| original price:\", t_shirt.price, \"coins | launch discount:\", t_shirt.discount, \"coins\" )\n",
    "\n",
    "# calculating the price after launch discount\n",
    "print (\"-> Price after launch discount\")\n",
    "t_shirt_price = t_shirt.calculate_price()\n",
    "print (\"Price:\", t_shirt_price, \"coins\")\n",
    "\n",
    "# applying the coupon\n",
    "print (\"-> Applying the coupon\")\n",
    "t_shirt.apply_coupon (\"SAVE4\")\n",
    "print (\"Discount:\", t_shirt.discount, \"coins\")\n",
    "\n",
    "# calculating the price after launch discount and coupon\n",
    "print (\"-> Price after launch discount and coupon\")\n",
    "t_shirt_price = t_shirt.calculate_price()\n",
    "print (\"Price:\", t_shirt_price, \"coins\")"
   ]
  },
  {
   "cell_type": "markdown",
   "id": "7ad994a5-d9e8-4b17-adda-8167757ccee0",
   "metadata": {},
   "source": [
    "- Instantiate the object `lamp` with its attributes and calculate the its price before and after applying the coupon `SUMMER10`:"
   ]
  },
  {
   "cell_type": "code",
   "execution_count": null,
   "id": "85636ca2-e1a7-4744-a846-8d0f3114ee22",
   "metadata": {},
   "outputs": [],
   "source": [
    "# instantiating the product lamp with its attributes\n",
    "lamp = Product(\"Lux\")\n",
    "lamp.price = 40\n",
    "\n",
    "# calculating original price\n",
    "print (\"-> Original price\")\n",
    "lamp_price = lamp.calculate_price()\n",
    "print (\"Price:\", lamp_price, \"coins\")\n",
    "\n",
    "# calculating the price after coupon\n",
    "print (\"-> Price after coupon\")\n",
    "lamp.apply_coupon (\"SUMMER10\")\n",
    "lamp_price = lamp.calculate_price()\n",
    "print (\"Price:\", lamp_price, \"coins\")"
   ]
  },
  {
   "cell_type": "markdown",
   "id": "3f2c76a4-9bd7-4d17-b664-1eb0b8d13ab6",
   "metadata": {},
   "source": [
    "- Print the two objects:"
   ]
  },
  {
   "cell_type": "code",
   "execution_count": null,
   "id": "e30b63c7-7116-4fc7-9e3d-6be653ae2a90",
   "metadata": {},
   "outputs": [],
   "source": [
    "print (t_shirt)\n",
    "print (lamp)"
   ]
  }
 ],
 "metadata": {
  "kernelspec": {
   "display_name": "Python 3 (ipykernel)",
   "language": "python",
   "name": "python3"
  },
  "language_info": {
   "codemirror_mode": {
    "name": "ipython",
    "version": 3
   },
   "file_extension": ".py",
   "mimetype": "text/x-python",
   "name": "python",
   "nbconvert_exporter": "python",
   "pygments_lexer": "ipython3",
   "version": "3.9.6"
  }
 },
 "nbformat": 4,
 "nbformat_minor": 5
}

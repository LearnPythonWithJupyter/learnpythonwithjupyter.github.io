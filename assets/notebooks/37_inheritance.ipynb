{
 "cells": [
  {
   "cell_type": "markdown",
   "id": "cf21520b-18e1-45b7-bcfd-18447391192c",
   "metadata": {},
   "source": [
    "# 37. How can I add a book sample?\n",
    "\n",
    "## Inheritance\n",
    "\n",
    "[Learn Python with Jupyter](https://learnpythonwithjupyter.com/) by [Serena Bonaretti](https://sbonaretti.github.io/)   \n",
    "Narrative license: [CC BY-NC-SA](https://creativecommons.org/licenses/by-nc-sa/2.0/). Code license: [GNU-GPL v3](https://www.gnu.org/licenses/gpl-3.0.en.html)  \n",
    "\n",
    "---"
   ]
  },
  {
   "cell_type": "markdown",
   "id": "c10b3a56-dc2e-4c38-9ae2-4dc93b923851",
   "metadata": {},
   "source": [
    "- It’s time to add books to the online store. For their webpages, you need to add a *Read Sample* button so that customers can preview the books before buying. However, you have to make sure that this button does not appear on the pages of other products, such as clothing or furniture. How can you do it?"
   ]
  },
  {
   "cell_type": "markdown",
   "id": "6b1432ab-c601-4b6c-a138-4e062b1af934",
   "metadata": {},
   "source": [
    "- You keep the class `Product` as it is - see Chapter 36, cell 1 and Notebook 37, cell 1. That will be your *parent* class:"
   ]
  },
  {
   "cell_type": "code",
   "execution_count": null,
   "id": "80204be2-e7bf-4c16-a4ae-9514fc1e9ab8",
   "metadata": {},
   "outputs": [],
   "source": [
    "class Product:\n",
    "    \"\"\"Class representing a product\"\"\"\n",
    "    \n",
    "    # --- CONSTRUCTOR -------------------\n",
    "    def __init__(self, name):\n",
    "        \"\"\"Class constructor\"\"\"\n",
    "        self.name       = name\n",
    "        self.__price    = 0           \n",
    "        self.__discount = 0           \n",
    "        self.__tax_rate = 0.02        \n",
    "\n",
    "    \n",
    "    # --- GET/SET METHODS ---------------  \n",
    "    def get_price(self):              \n",
    "        \"\"\"Gets the price value\"\"\"\n",
    "        return self.__price\n",
    "\n",
    "    def set_price(self, price):       \n",
    "        \"\"\"Sets the price value\"\"\"\n",
    "        if isinstance(price, (int, float)) and price > 0:\n",
    "            self.__price = price\n",
    "        else:\n",
    "            raise ValueError(\"Price must be a number greater than 0\")\n",
    "\n",
    "    def get_discount(self):           \n",
    "        \"\"\"Gets the discount value\"\"\"\n",
    "        return self.__discount\n",
    "\n",
    "    def set_discount(self, discount): \n",
    "        \"\"\"Sets the discount value\"\"\"\n",
    "        if isinstance(discount, (int, float)) and 0 < discount < self.__price:\n",
    "            self.__discount = discount\n",
    "        else:\n",
    "            raise ValueError(\"Discount must be a number greater than 0 and less than the product's price\")\n",
    "\n",
    "   \n",
    "    # --- METHODS -----------------------    \n",
    "    def apply_coupon(self, coupon):                      \n",
    "        \"\"\"Updates discount based on a coupon\"\"\"\n",
    "        if coupon == \"SAVE4\":\n",
    "            self.__discount = self.__discount + 4   \n",
    "            print (\"Coupon SAVE4 applied!\")\n",
    "        elif coupon == \"SUMMER10\":\n",
    "            self.__discount = self.__discount + 10 \n",
    "            print (\"Coupon SUMMER10 applied!\")\n",
    "        else:\n",
    "            print (\"Your coupon is not valid\")\n",
    "\n",
    "    def __calculate_tax(self, price):            \n",
    "        \"\"\"Calculates tax on price\"\"\"\n",
    "        tax = round(price * self.__tax_rate, 2)\n",
    "        print (\"Tax amount on\", price, \"coins:\", tax, \"coins\")\n",
    "        return tax\n",
    "    \n",
    "    def calculate_price(self):\n",
    "        \"\"\"Calculates price after discount and tax\"\"\"\n",
    "        # calculate the discounted price\n",
    "        discounted_price = self.__price - self.__discount   \n",
    "        # calculate tax on the discounted price        \n",
    "        tax = self.__calculate_tax(discounted_price)        \n",
    "        # add tax to the discounted price               \n",
    "        taxed_price = discounted_price + tax                           \n",
    "        return taxed_price                             \n",
    "        \n",
    "    \n",
    "    # --- BUILT-IN METHOD ---------------\n",
    "    def __str__(self): \n",
    "        \"\"\"Prints the object characteristics\"\"\"\n",
    "        return \"Name: \" + self.name"
   ]
  },
  {
   "cell_type": "markdown",
   "id": "b6f9c91a-f68f-4fae-b55e-29a27ce8e0bd",
   "metadata": {},
   "source": [
    "- You create a *child* class representing books that inherits all attributes and methods from the `Product` class. Then, you add a private attribute representing the book sample—with its get and set methods—and create a public method that prints the sample: "
   ]
  },
  {
   "cell_type": "code",
   "execution_count": null,
   "id": "ea9279cc-bcb7-4858-8459-ddc2b352021a",
   "metadata": {},
   "outputs": [],
   "source": [
    "class Book(Product):\n",
    "    \"\"\"Child class representing a book\"\"\"\n",
    "    \n",
    "    # --- CONSTRUCTOR -------------------\n",
    "    def __init__(self, name):\n",
    "        \"\"\"Constructor\"\"\"\n",
    "        super().__init__(name)\n",
    "        self.__book_sample = \"\"\n",
    "\n",
    "\n",
    "    # --- GET/SET METHODS ---------------  \n",
    "    def get_book_sample(self):                    \n",
    "        \"\"\"Gets the book sample\"\"\"\n",
    "        return self.__book_sample\n",
    "\n",
    "    def set_book_sample(self, book_sample): \n",
    "        \"\"\"Sets the book sample\"\"\"\n",
    "        if isinstance(book_sample, str):\n",
    "            self.__book_sample = book_sample\n",
    "        else:\n",
    "            raise TypeError(\"book_sample must be a string\")\n",
    "\n",
    "    \n",
    "    # --- METHODS -----------------------\n",
    "    def read_sample(self):\n",
    "        \"\"\"Prints the book sample\"\"\"\n",
    "        if self.__book_sample != \"\":\n",
    "            print (self.__book_sample, \"[...] - Enjoying the book? Buy it!\")\n",
    "        else:\n",
    "            print (\"Book sample not available\")"
   ]
  },
  {
   "cell_type": "markdown",
   "id": "520f02c9-f6cc-4187-917d-bd8d681797bf",
   "metadata": {},
   "source": [
    "- To test the new code, you instantiate an object representing a coding book called *Let's code*, original price 20 coins, and launch discount 2 coins. Then, you print the book's characteristics, its price after applying the coupon `SUMMER10`, and its sample:"
   ]
  },
  {
   "cell_type": "code",
   "execution_count": null,
   "id": "096852e4-c864-4c7e-a051-e61e78207c8b",
   "metadata": {},
   "outputs": [],
   "source": [
    "# creating the object and setting the attributes\n",
    "coding_book = Book(\"Let's code!\")\n",
    "coding_book.set_price(20)\n",
    "coding_book.set_discount(2)\n",
    "\n",
    "# printing the characteristics\n",
    "print (\"Book name:\", coding_book.name, \"| original price:\", coding_book.get_price(), \"coins | launch discount:\", coding_book.get_discount(), \"coins\" )\n",
    "\n",
    "# calculating the price\n",
    "print (\"-> Price after launch discount, coupon, and tax\")\n",
    "coding_book.apply_coupon(\"SUMMER10\")\n",
    "print (\"Price:\", coding_book.calculate_price(), \"coins\")\n",
    "\n",
    "# reading the book sample\n",
    "print (\"-> Reading book sample\")\n",
    "coding_book.set_book_sample(\"Coding is a lot about telling a computer what to do\")\n",
    "coding_book.read_sample()"
   ]
  }
 ],
 "metadata": {
  "kernelspec": {
   "display_name": "Python 3 (ipykernel)",
   "language": "python",
   "name": "python3"
  },
  "language_info": {
   "codemirror_mode": {
    "name": "ipython",
    "version": 3
   },
   "file_extension": ".py",
   "mimetype": "text/x-python",
   "name": "python",
   "nbconvert_exporter": "python",
   "pygments_lexer": "ipython3",
   "version": "3.9.6"
  }
 },
 "nbformat": 4,
 "nbformat_minor": 5
}

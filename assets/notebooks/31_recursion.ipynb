{
 "cells": [
  {
   "cell_type": "markdown",
   "metadata": {},
   "source": [
    "# 31. Factorials\n",
    "\n",
    "## Recursive functions\n",
    "\n",
    "[Learn Python with Jupyter](https://learnpythonwithjupyter.com/) by [Serena Bonaretti](https://sbonaretti.github.io/)   \n",
    "Narrative license: [CC BY-NC-SA](https://creativecommons.org/licenses/by-nc-sa/2.0/). Code license: [GNU-GPL v3](https://www.gnu.org/licenses/gpl-3.0.en.html)  \n",
    "\n",
    "---"
   ]
  },
  {
   "cell_type": "markdown",
   "metadata": {},
   "source": [
    "- Write a function that calculates the factorial of a given integer using a for loop:"
   ]
  },
  {
   "cell_type": "code",
   "execution_count": null,
   "metadata": {},
   "outputs": [],
   "source": [
    "def factorial_for (n):\n",
    "    \"\"\"Calculates the factorial of a given integer using a for loop\n",
    "\n",
    "    Parameters\n",
    "    ----------\n",
    "    n : integer\n",
    "        The input integer \n",
    "\n",
    "    Returns\n",
    "    -------\n",
    "    factorial : integer \n",
    "        The factorial of the input integer\n",
    "    \"\"\"\n",
    "\n",
    "    # initialize the result to one\n",
    "    factorial = 1\n",
    "\n",
    "    # for each integer between 2 and the input integer\n",
    "    for i in range (2, n+1):\n",
    "        # multiply the current result for the current integer \n",
    "        factorial *= i\n",
    "\n",
    "    # return the result\n",
    "    return factorial\n",
    "\n",
    "# call the function\n",
    "fact = factorial_for (4)\n",
    "print (fact)"
   ]
  },
  {
   "cell_type": "markdown",
   "metadata": {},
   "source": [
    "- Compare the previous iterative function with the following recursive function:"
   ]
  },
  {
   "cell_type": "code",
   "execution_count": null,
   "metadata": {},
   "outputs": [],
   "source": [
    "def factorial_rec (n):\n",
    "    \"\"\"Calculates the factorial of a given integer using recursion\n",
    "\n",
    "    Parameters\n",
    "    ----------\n",
    "    n : integer\n",
    "        The input integer \n",
    "\n",
    "    Returns\n",
    "    -------\n",
    "    integer \n",
    "        The factorial of the input integer\n",
    "    \"\"\"\n",
    "  \n",
    "    # if n is greater than 1\n",
    "    if n > 1: \n",
    "        # execute the recursion\n",
    "        return factorial_rec(n-1) * n\n",
    "    # otherwise\n",
    "    else: \n",
    "        # return 1\n",
    "        return 1 \n",
    "\n",
    "# call the function\n",
    "fact = factorial_rec (4)\n",
    "print (fact)"
   ]
  }
 ],
 "metadata": {
  "kernelspec": {
   "display_name": "Python 3 (ipykernel)",
   "language": "python",
   "name": "python3"
  },
  "language_info": {
   "codemirror_mode": {
    "name": "ipython",
    "version": 3
   },
   "file_extension": ".py",
   "mimetype": "text/x-python",
   "name": "python",
   "nbconvert_exporter": "python",
   "pygments_lexer": "ipython3",
   "version": "3.9.6"
  },
  "widgets": {
   "application/vnd.jupyter.widget-state+json": {
    "state": {},
    "version_major": 2,
    "version_minor": 0
   }
  }
 },
 "nbformat": 4,
 "nbformat_minor": 4
}

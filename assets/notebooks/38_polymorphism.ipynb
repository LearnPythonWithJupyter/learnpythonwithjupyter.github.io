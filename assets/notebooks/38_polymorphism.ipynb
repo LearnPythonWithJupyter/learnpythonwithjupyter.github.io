{
 "cells": [
  {
   "cell_type": "markdown",
   "id": "cf21520b-18e1-45b7-bcfd-18447391192c",
   "metadata": {},
   "source": [
    "# 38. Customizing the coupon for electronics\n",
    "\n",
    "## Polymorphism\n",
    "\n",
    "[Learn Python with Jupyter](https://learnpythonwithjupyter.com/) by [Serena Bonaretti](https://sbonaretti.github.io/)   \n",
    "Narrative license: [CC BY-NC-SA](https://creativecommons.org/licenses/by-nc-sa/2.0/). Code license: [GNU-GPL v3](https://www.gnu.org/licenses/gpl-3.0.en.html)  \n",
    "\n",
    "---"
   ]
  },
  {
   "cell_type": "markdown",
   "id": "144126de-c45b-4c22-9add-d06430b3cf41",
   "metadata": {},
   "source": [
    "- To complete the online store, you add electronics products. When purchasing them, customers can only use the coupon `TECH100`, worth 100 coins, instead of the `SAVE4` and `SUMMER10`coupons, which can be used for other products. How would you change the apply coupon functionality to satisfy this new requirement?"
   ]
  },
  {
   "cell_type": "markdown",
   "id": "6b1432ab-c601-4b6c-a138-4e062b1af934",
   "metadata": {},
   "source": [
    "- You keep the same parent class `Product` as in Chapter 36, cell 1:"
   ]
  },
  {
   "cell_type": "code",
   "execution_count": null,
   "id": "b5e8c66b-3df5-4f47-970f-4a82a68e3e9d",
   "metadata": {},
   "outputs": [],
   "source": [
    "class Product:\n",
    "    \"\"\"Class representing a product\"\"\"\n",
    "    \n",
    "    # --- CONSTRUCTOR -------------------\n",
    "    def __init__(self, name):\n",
    "        \"\"\"Class constructor\"\"\"\n",
    "        self.name       = name\n",
    "        self.__price    = 0           \n",
    "        self.__discount = 0           \n",
    "        self.__tax_rate = 0.02        \n",
    "\n",
    "    \n",
    "    # --- GET/SET METHODS ---------------  \n",
    "    def get_price(self):              \n",
    "        \"\"\"Gets the price value\"\"\"\n",
    "        return self.__price\n",
    "\n",
    "    def set_price(self, price):       \n",
    "        \"\"\"Sets the price value\"\"\"\n",
    "        if isinstance(price, (int, float)) and price > 0:\n",
    "            self.__price = price\n",
    "        else:\n",
    "            raise ValueError(\"Price must be a number greater than 0\")\n",
    "\n",
    "    def get_discount(self):           \n",
    "        \"\"\"Gets the discount value\"\"\"\n",
    "        return self.__discount\n",
    "\n",
    "    def set_discount(self, discount): \n",
    "        \"\"\"Sets the discount value\"\"\"\n",
    "        if isinstance(discount, (int, float)) and 0 < discount < self.__price:\n",
    "            self.__discount = discount\n",
    "        else:\n",
    "            raise ValueError(\"Discount must be a number greater than 0 and less than the product's price\")\n",
    "\n",
    "   \n",
    "    # --- METHODS -----------------------    \n",
    "    def apply_coupon(self, coupon):                      \n",
    "        \"\"\"Updates discount based on a coupon\"\"\"\n",
    "        if coupon == \"SAVE4\":\n",
    "            self.__discount = self.__discount + 4 \n",
    "            print (\"Coupon SAVE4 applied!\")\n",
    "        elif coupon == \"SUMMER10\":\n",
    "            self.__discount = self.__discount + 10  \n",
    "            print (\"Coupon SUMMER10 applied!\")\n",
    "        else:\n",
    "            print (\"Your coupon is not valid\")\n",
    "\n",
    "    def __calculate_tax(self, price):            \n",
    "        \"\"\"Calculates tax on price\"\"\"\n",
    "        tax = round(price * self.__tax_rate, 2)\n",
    "        print (\"Tax amount on\", price, \"coins:\", tax, \"coins\")\n",
    "        return tax\n",
    "    \n",
    "    def calculate_price(self):\n",
    "        \"\"\"Calculates price after discount and tax\"\"\"\n",
    "        # calculate the discounted price\n",
    "        discounted_price = self.__price - self.__discount   \n",
    "        # calculate tax on the discounted price        \n",
    "        tax = self.__calculate_tax(discounted_price)        \n",
    "        # add tax to the discounted price               \n",
    "        taxed_price = discounted_price + tax                           \n",
    "        return taxed_price                             \n",
    "        \n",
    "    \n",
    "    # --- BUILT-IN METHOD ---------------\n",
    "    def __str__(self): \n",
    "        \"\"\"Prints the object characteristics\"\"\"\n",
    "        return \"Name: \" + self.name"
   ]
  },
  {
   "cell_type": "markdown",
   "id": "0ccd3150-709e-49c1-8dbf-a83393187a45",
   "metadata": {},
   "source": [
    "- You create the new child class `Electronics` that inherits from `Product` and overwrites the method `apply_coupon()`:"
   ]
  },
  {
   "cell_type": "code",
   "execution_count": null,
   "id": "368ba285-5a56-4955-955c-a328e508aa72",
   "metadata": {},
   "outputs": [],
   "source": [
    "class Electronics(Product):\n",
    "    \"\"\"Child class representing an electronic product\"\"\"\n",
    "\n",
    "    # --- METHODS -----------------------\n",
    "    def apply_coupon(self, coupon):                      \n",
    "        \"\"\"Updates discount based on a coupon - overwrites parent method\"\"\"\n",
    "        if coupon == \"TECH100\":\n",
    "            self.set_discount(self.get_discount() + 100) \n",
    "            print (\"Coupon TECH100 applied!\")\n",
    "        else: \n",
    "            print (\"Your coupon is not valid\")"
   ]
  },
  {
   "cell_type": "markdown",
   "id": "7f6718d1-e6ab-4572-a1fc-6ac2d83f751e",
   "metadata": {},
   "source": [
    "- To check the correctness of the code, you create a new object *laptop* named *E-notebook*, with the original price of 1000 coins, and launch discount of 50 coins. Then, you calculate the price before and after applying the coupon `TECH100`:"
   ]
  },
  {
   "cell_type": "code",
   "execution_count": null,
   "id": "722556fb-9213-443c-80aa-b9b2d1c472b9",
   "metadata": {},
   "outputs": [],
   "source": [
    "# instantiating the object\n",
    "laptop = Electronics (\"E-notebook\")\n",
    "laptop.set_price(1000)\n",
    "laptop.set_discount(50)\n",
    "\n",
    "# calculating price after launch discount\n",
    "print (\"-> Price after launch discount\")\n",
    "laptop_price = laptop.calculate_price()\n",
    "print (\"Price:\", laptop_price, \"coins\")\n",
    "\n",
    "# calculating price after coupon\n",
    "print (\"-> Price after coupon\")\n",
    "laptop.apply_coupon(\"TECH100\")\n",
    "laptop_price = laptop.calculate_price()\n",
    "print (\"Price:\", laptop_price, \"coins\")"
   ]
  }
 ],
 "metadata": {
  "kernelspec": {
   "display_name": "Python 3 (ipykernel)",
   "language": "python",
   "name": "python3"
  },
  "language_info": {
   "codemirror_mode": {
    "name": "ipython",
    "version": 3
   },
   "file_extension": ".py",
   "mimetype": "text/x-python",
   "name": "python",
   "nbconvert_exporter": "python",
   "pygments_lexer": "ipython3",
   "version": "3.9.6"
  }
 },
 "nbformat": 4,
 "nbformat_minor": 5
}

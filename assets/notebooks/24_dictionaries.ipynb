{
 "cells": [
  {
   "cell_type": "markdown",
   "metadata": {},
   "source": [
    "# 24. Inventory at the English bookstore  \n",
    "\n",
    "\n",
    "## Dictionary\n",
    "\n",
    "\n",
    "[Learn Python with Jupyter](https://learnpythonwithjupyter.com/) by [Serena Bonaretti](https://sbonaretti.github.io/)   \n",
    "Narrative license: [CC BY-NC-SA](https://creativecommons.org/licenses/by-nc-sa/2.0/). Code license: [GNU-GPL v3](https://www.gnu.org/licenses/gpl-3.0.en.html)  \n",
    "\n",
    "---\n",
    "\n"
   ]
  },
  {
   "cell_type": "markdown",
   "metadata": {},
   "source": [
    "- You are the owner of an English bookstore, and these are some classics you sell:"
   ]
  },
  {
   "cell_type": "code",
   "execution_count": null,
   "metadata": {},
   "outputs": [],
   "source": [
    "classics = {\"Austen\":\"Pride and Prejudice\", \n",
    "            \"Shelley\":\"Frankenstein\", \n",
    "            \"Joyce\":\"Ulyssessss\"}\n",
    "print (classics)"
   ]
  },
  {
   "cell_type": "markdown",
   "metadata": {},
   "source": [
    "- You are conducting an inventory, and you need to print authors and titles: "
   ]
  },
  {
   "cell_type": "code",
   "execution_count": null,
   "metadata": {},
   "outputs": [],
   "source": [
    "# as dict_items\n",
    "print (classics.items())\n",
    "# as a list of tuples\n",
    "print (list(classics.items()))"
   ]
  },
  {
   "cell_type": "markdown",
   "metadata": {},
   "source": [
    "- Then, you need to print authors and titles separately:"
   ]
  },
  {
   "cell_type": "code",
   "execution_count": null,
   "metadata": {},
   "outputs": [],
   "source": [
    "# authors as dict_items\n",
    "print (classics.keys())\n",
    "# authors as a list \n",
    "print (list(classics.keys()))\n",
    "\n",
    "# titles as dict_values\n",
    "print (classics.values())\n",
    "# titles as a list\n",
    "print (list(classics.values()))"
   ]
  },
  {
   "cell_type": "markdown",
   "metadata": {},
   "source": [
    "- You notice that the title of the last book is wrong, so you correct it:"
   ]
  },
  {
   "cell_type": "code",
   "execution_count": null,
   "metadata": {},
   "outputs": [],
   "source": [
    "print (\"Wrong title: \" + classics[\"Joyce\"])\n",
    "classics[\"Joyce\"] = \"Ulysses\"\n",
    "print (\"Corrected title: \" + classics[\"Joyce\"])"
   ]
  },
  {
   "cell_type": "markdown",
   "metadata": {},
   "source": [
    "- Then you add two new books that have just arrived: *Gulliver's travels* by Swift and *Jane Eyre* by Bronte:"
   ]
  },
  {
   "cell_type": "code",
   "execution_count": null,
   "metadata": {},
   "outputs": [],
   "source": [
    "# adding the first book (syntax 1)\n",
    "classics[\"Swift\"] = \"Gulliver's travels\"\n",
    "print (classics)\n",
    "\n",
    "# adding the second book (syntax 2)\n",
    "classics.update({\"Bronte\":\"Jane Eyre\"})\n",
    "print (classics)"
   ]
  },
  {
   "cell_type": "markdown",
   "metadata": {},
   "source": [
    "- Finally you remove the books by Austen and Joyce because you have just sold them: "
   ]
  },
  {
   "cell_type": "code",
   "execution_count": null,
   "metadata": {},
   "outputs": [],
   "source": [
    "# deleting the first book (syntax 1)\n",
    "del classics[\"Austen\"]\n",
    "print (classics)\n",
    "\n",
    "# deleting the second book (syntax 2)\n",
    "classics.pop(\"Joyce\")\n",
    "print (classics)"
   ]
  },
  {
   "cell_type": "markdown",
   "metadata": {},
   "source": [
    "---\n",
    "## List of dictionaries (*In more depth* section)\n"
   ]
  },
  {
   "cell_type": "markdown",
   "metadata": {},
   "source": [
    "- Given the following list of dictionaries:"
   ]
  },
  {
   "cell_type": "code",
   "execution_count": null,
   "metadata": {
    "tags": []
   },
   "outputs": [],
   "source": [
    "countries = [{\"name\": \"China\", \"capital\": \"Bejing\"},\n",
    "             {\"name\": \"France\", \"capital\": \"Paris\"},]\n",
    "print (countries)"
   ]
  },
  {
   "cell_type": "markdown",
   "metadata": {},
   "source": [
    "- Add a list element:"
   ]
  },
  {
   "cell_type": "code",
   "execution_count": null,
   "metadata": {
    "tags": []
   },
   "outputs": [],
   "source": [
    "countries.append({\"name\": \"Brazil\", \"capital\": \"Brasilia\"})\n",
    "print (countries)"
   ]
  },
  {
   "cell_type": "markdown",
   "metadata": {},
   "source": [
    "- Slice the second element:"
   ]
  },
  {
   "cell_type": "code",
   "execution_count": null,
   "metadata": {
    "tags": []
   },
   "outputs": [],
   "source": [
    "print (countries [1])"
   ]
  },
  {
   "cell_type": "markdown",
   "metadata": {},
   "source": [
    "- Print list elements using a for loop through elements and a for loop through indices:"
   ]
  },
  {
   "cell_type": "code",
   "execution_count": null,
   "metadata": {
    "tags": []
   },
   "outputs": [],
   "source": [
    "# for loop though elements\n",
    "print (\"-> for loop though elements\")\n",
    "for country in countries:\n",
    "    print (country)\n",
    "\n",
    "# for loop though indices\n",
    "print (\"-> for loop though indices\")\n",
    "for i in range (len(countries)):\n",
    "    print (countries[i])"
   ]
  },
  {
   "cell_type": "markdown",
   "metadata": {},
   "source": [
    "- Print the country names using a for loop through elements and a for loop through indices:"
   ]
  },
  {
   "cell_type": "code",
   "execution_count": null,
   "metadata": {
    "tags": []
   },
   "outputs": [],
   "source": [
    "# for loop though elements\n",
    "print (\"-> for loop though elements\")     \n",
    "for country in countries:\n",
    "    print (country[\"name\"])\n",
    "    \n",
    "# for loop though indices\n",
    "print (\"-> for loop though indices\")\n",
    "for i in range (len(countries)):\n",
    "    print (countries[i][\"name\"])"
   ]
  }
 ],
 "metadata": {
  "kernelspec": {
   "display_name": "Python 3 (ipykernel)",
   "language": "python",
   "name": "python3"
  },
  "language_info": {
   "codemirror_mode": {
    "name": "ipython",
    "version": 3
   },
   "file_extension": ".py",
   "mimetype": "text/x-python",
   "name": "python",
   "nbconvert_exporter": "python",
   "pygments_lexer": "ipython3",
   "version": "3.11.4"
  },
  "widgets": {
   "application/vnd.jupyter.widget-state+json": {
    "state": {},
    "version_major": 2,
    "version_minor": 0
   }
  }
 },
 "nbformat": 4,
 "nbformat_minor": 4
}

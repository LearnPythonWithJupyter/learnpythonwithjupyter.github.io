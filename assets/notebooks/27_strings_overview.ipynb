{
 "cells": [
  {
   "cell_type": "markdown",
   "metadata": {},
   "source": [
    "# 27. Overview of strings \n",
    "\n",
    "## Operations, methods, and printing\n",
    "\n",
    "[Learn Python with Jupyter](https://learnpythonwithjupyter.com/) by [Serena Bonaretti](https://sbonaretti.github.io/)   \n",
    "Narrative license: [CC BY-NC-SA](https://creativecommons.org/licenses/by-nc-sa/2.0/). Code license: [GNU-GPL v3](https://www.gnu.org/licenses/gpl-3.0.en.html)  \n",
    "\n",
    "---"
   ]
  },
  {
   "cell_type": "markdown",
   "metadata": {},
   "source": [
    "--- \n",
    "## 1. String slicing\n",
    "\n",
    "String slicing is the same as list slicing.\n",
    "\n",
    "- Given the following string: "
   ]
  },
  {
   "cell_type": "code",
   "execution_count": null,
   "metadata": {},
   "outputs": [],
   "source": [
    "two_ways = \"rsecwyadrkd\""
   ]
  },
  {
   "cell_type": "markdown",
   "metadata": {},
   "source": [
    "- Extract every second character:"
   ]
  },
  {
   "cell_type": "code",
   "execution_count": null,
   "metadata": {},
   "outputs": [],
   "source": [
    "print (two_ways[::2])"
   ]
  },
  {
   "cell_type": "markdown",
   "metadata": {},
   "source": [
    "- Extract every second character and invert the outcome:"
   ]
  },
  {
   "cell_type": "code",
   "execution_count": null,
   "metadata": {},
   "outputs": [],
   "source": [
    "print (two_ways[::-2])"
   ]
  },
  {
   "cell_type": "markdown",
   "metadata": {},
   "source": [
    "--- \n",
    "## 2. \"Arithmetic\" operations among strings\n",
    "\n",
    "In python, only two \"arithmetic\" operations are possible on strings (same as for lists): \n",
    "- Concatenations (`+`)\n",
    "- Self-replication (`*`)"
   ]
  },
  {
   "cell_type": "markdown",
   "metadata": {},
   "source": [
    "- Concatenate two strings:"
   ]
  },
  {
   "cell_type": "code",
   "execution_count": null,
   "metadata": {},
   "outputs": [],
   "source": [
    "first = \"sun\"\n",
    "second = \"screen\"\n",
    "combo = first + second \n",
    "print (combo)"
   ]
  },
  {
   "cell_type": "markdown",
   "metadata": {},
   "source": [
    "- Replicate a string 5 times:"
   ]
  },
  {
   "cell_type": "code",
   "execution_count": null,
   "metadata": {},
   "outputs": [],
   "source": [
    "one_smile = \":-)\"\n",
    "five_smiles = one_smile * 5\n",
    "print (five_smiles)"
   ]
  },
  {
   "cell_type": "markdown",
   "metadata": {},
   "source": [
    "--- \n",
    "## 3. Replacing or removing parts of strings\n",
    "\n",
    "- Given the following string: "
   ]
  },
  {
   "cell_type": "code",
   "execution_count": null,
   "metadata": {},
   "outputs": [],
   "source": [
    "favorites = \"I like cooking, my family, and my friends\""
   ]
  },
  {
   "cell_type": "markdown",
   "metadata": {},
   "source": [
    "- **Replace** the character at position 0 with `U` using slicing and assignment. What happens?"
   ]
  },
  {
   "cell_type": "code",
   "execution_count": null,
   "metadata": {
    "scrolled": true
   },
   "outputs": [],
   "source": [
    "favorites[0] = \"U\" "
   ]
  },
  {
   "cell_type": "markdown",
   "metadata": {},
   "source": [
    "- Redo the same task using slicing and concatenation: "
   ]
  },
  {
   "cell_type": "code",
   "execution_count": null,
   "metadata": {},
   "outputs": [],
   "source": [
    "from_position_one = favorites[1:]\n",
    "favorites = \"U\" + from_position_one\n",
    "print (favorites)"
   ]
  },
  {
   "cell_type": "markdown",
   "metadata": {},
   "source": [
    "- Redo the same task using the string method `.split()`:"
   ]
  },
  {
   "cell_type": "code",
   "execution_count": null,
   "metadata": {},
   "outputs": [],
   "source": [
    "favorites = \"I like cooking, my family, and my friends\"\n",
    "\n",
    "parts = favorites.split(\"I\")\n",
    "print (parts)\n",
    "\n",
    "favorites = \"U\" + parts[1]\n",
    "print (favorites)"
   ]
  },
  {
   "cell_type": "markdown",
   "metadata": {},
   "source": [
    "- **Replace** the commas with semicolons using the method `.replace()`:"
   ]
  },
  {
   "cell_type": "code",
   "execution_count": null,
   "metadata": {},
   "outputs": [],
   "source": [
    "favorites = \"I like cooking, my family, and my friends\"\n",
    "favorites = favorites.replace(\",\", \";\") #reassingment\n",
    "print (favorites)"
   ]
  },
  {
   "cell_type": "markdown",
   "metadata": {},
   "source": [
    "- **Remove** the commas:"
   ]
  },
  {
   "cell_type": "code",
   "execution_count": null,
   "metadata": {},
   "outputs": [],
   "source": [
    "favorites = \"I like cooking, my family, and my friends\"\n",
    "favorites = favorites.replace(\",\", \"\") # two things at once: replace and removing (or using replace to removing)\n",
    "print (favorites)"
   ]
  },
  {
   "cell_type": "markdown",
   "metadata": {},
   "source": [
    "---\n",
    "## 4. Searching a substring in a string\n",
    "- Given the following string: "
   ]
  },
  {
   "cell_type": "code",
   "execution_count": null,
   "metadata": {},
   "outputs": [],
   "source": [
    "us = \"we are\""
   ]
  },
  {
   "cell_type": "markdown",
   "metadata": {},
   "source": [
    "- Find the positions of the character `e` using the method `.find()`:"
   ]
  },
  {
   "cell_type": "code",
   "execution_count": null,
   "metadata": {},
   "outputs": [],
   "source": [
    "positions = us.find(\"e\")\n",
    "print (positions)"
   ]
  },
  {
   "cell_type": "markdown",
   "metadata": {},
   "source": [
    "- Find all the positions of the character *e* using an alternative way:"
   ]
  },
  {
   "cell_type": "code",
   "execution_count": null,
   "metadata": {},
   "outputs": [],
   "source": [
    "# initializing positions \n",
    "positions = []\n",
    "\n",
    "# find all positions of e\n",
    "for i in range(len(us)):\n",
    "    if us[i] == \"e\":\n",
    "        positions.append(i)\n",
    "print (positions)"
   ]
  },
  {
   "cell_type": "markdown",
   "metadata": {},
   "source": [
    "- Find the position of the character `f` using the method `.find()`:"
   ]
  },
  {
   "cell_type": "code",
   "execution_count": null,
   "metadata": {},
   "outputs": [],
   "source": [
    "positions = us.find(\"f\")\n",
    "print (positions)"
   ]
  },
  {
   "cell_type": "markdown",
   "metadata": {},
   "source": [
    "---\n",
    "## 5. Counting the number of substrings in a string"
   ]
  },
  {
   "cell_type": "markdown",
   "metadata": {},
   "source": [
    "- Given the following string: "
   ]
  },
  {
   "cell_type": "code",
   "execution_count": null,
   "metadata": {},
   "outputs": [],
   "source": [
    "hobbies = \"I like going to the movies, traveling, and singing\""
   ]
  },
  {
   "cell_type": "markdown",
   "metadata": {},
   "source": [
    "- Count the numbers of substrings `ing` using the method `.count()`:"
   ]
  },
  {
   "cell_type": "code",
   "execution_count": null,
   "metadata": {},
   "outputs": [],
   "source": [
    "n_substrings = hobbies.count(\"ing\")\n",
    "print (n_substrings)"
   ]
  },
  {
   "cell_type": "markdown",
   "metadata": {},
   "source": [
    "---\n",
    "## 6. String to list and back  \n",
    "- Given the following string:  "
   ]
  },
  {
   "cell_type": "code",
   "execution_count": null,
   "metadata": {},
   "outputs": [],
   "source": [
    "string = \"How are you\""
   ]
  },
  {
   "cell_type": "markdown",
   "metadata": {},
   "source": [
    "- Transform the string into a list of strings where each element is a word: "
   ]
  },
  {
   "cell_type": "code",
   "execution_count": null,
   "metadata": {},
   "outputs": [],
   "source": [
    "list_of_strings = string.split() \n",
    "print (list_of_strings)"
   ]
  },
  {
   "cell_type": "markdown",
   "metadata": {},
   "source": [
    "- Transform the list of strings back to a string using the method `.join()`:"
   ]
  },
  {
   "cell_type": "code",
   "execution_count": null,
   "metadata": {},
   "outputs": [],
   "source": [
    "string_from_list = \" \".join(list_of_strings)\n",
    "print (string_from_list)"
   ]
  },
  {
   "cell_type": "markdown",
   "metadata": {},
   "source": [
    "---\n",
    "## 7. Changing character cases \n",
    "- Given the following string: "
   ]
  },
  {
   "cell_type": "code",
   "execution_count": null,
   "metadata": {},
   "outputs": [],
   "source": [
    "greeting = \"Hello! How are you?\""
   ]
  },
  {
   "cell_type": "markdown",
   "metadata": {},
   "source": [
    "- Modify the string to uppercase and lowercase; change to uppercase only the first character of the string, and then each word of the string; finally, invert the cases:"
   ]
  },
  {
   "cell_type": "code",
   "execution_count": null,
   "metadata": {},
   "outputs": [],
   "source": [
    "# uppercase\n",
    "print (greeting.upper())\n",
    "# lowercase\n",
    "print (greeting.lower())\n",
    "# change the first character of the to uppercase\n",
    "print (greeting.capitalize())\n",
    "# change the first character of each word to uppercase\n",
    "print (greeting.title())\n",
    "# invert cases\n",
    "print (greeting.swapcase())"
   ]
  },
  {
   "cell_type": "markdown",
   "metadata": {},
   "source": [
    "---\n",
    "## 8. Printing variables"
   ]
  },
  {
   "cell_type": "markdown",
   "metadata": {},
   "source": [
    "- Given the following string:"
   ]
  },
  {
   "cell_type": "code",
   "execution_count": null,
   "metadata": {},
   "outputs": [],
   "source": [
    "part_of_day = \"morning\""
   ]
  },
  {
   "cell_type": "markdown",
   "metadata": {},
   "source": [
    "- Print `Good morning!` in 4 ways, using (1) string concatenation, (2) comma separation, (3) the method `.format()`, and (4) *f-strings*, and notice the differences:"
   ]
  },
  {
   "cell_type": "code",
   "execution_count": null,
   "metadata": {},
   "outputs": [],
   "source": [
    "# (1) string concatenation\n",
    "print (\"Good \" + part_of_day + \"!\")\n",
    "# (2) variable separation by comma\n",
    "print (\"Good\", part_of_day, \"!\")\n",
    "# (3) the method .format()\n",
    "print (\"Good {}!\".format(part_of_day))\n",
    "# (4) f-strings\n",
    "print (f\"\"\"Good {part_of_day}!\"\"\")"
   ]
  },
  {
   "cell_type": "markdown",
   "metadata": {},
   "source": [
    "- Given a string and a numerical variable:"
   ]
  },
  {
   "cell_type": "code",
   "execution_count": null,
   "metadata": {},
   "outputs": [],
   "source": [
    "part_of_day = \"morning\"\n",
    "time_of_day = 10"
   ]
  },
  {
   "cell_type": "markdown",
   "metadata": {},
   "source": [
    "- Print  \n",
    " `Good morning!`  \n",
    "  `It's 10a.m.`  \n",
    "  using the same four ways as above (note that the sentences are on two separate lines):"
   ]
  },
  {
   "cell_type": "code",
   "execution_count": null,
   "metadata": {},
   "outputs": [],
   "source": [
    "# (1) string concatenation\n",
    "print (\"Good \" + part_of_day + \"!\\nIt's \" + str(time_of_day) + \"a.m.\")\n",
    "# (2) variable separation by comma\n",
    "print (\"Good\", part_of_day, \"!\\nIt's\", time_of_day, \"a.m\")\n",
    "# (3) the method .format()\n",
    "print (\"Good {}!\\nIt's {}a.m.\".format(part_of_day, time_of_day))\n",
    "# (4) f-strings\n",
    "print (f\"\"\"Good {part_of_day}! \n",
    "It's {time_of_day}a.m.\"\"\")\n",
    "# notes:\n",
    "# - apostrophe with single quote requires \\' (see first line It's)\n",
    "# - use of \\n\n",
    "# - with f-strings one can go to a new line if using triple quotes"
   ]
  },
  {
   "cell_type": "markdown",
   "metadata": {},
   "source": [
    "- Given the numerical variable:"
   ]
  },
  {
   "cell_type": "code",
   "execution_count": null,
   "metadata": {},
   "outputs": [],
   "source": [
    "number = 1.2345"
   ]
  },
  {
   "cell_type": "markdown",
   "metadata": {},
   "source": [
    "- Print `The number is 1.23` (only the first two decimals) using the four methods:"
   ]
  },
  {
   "cell_type": "code",
   "execution_count": null,
   "metadata": {},
   "outputs": [],
   "source": [
    "# (1) string concatenation\n",
    "print(\"The number is \" + str(round(number, 2)))\n",
    "# (2) variable separation by comma\n",
    "print(\"The number is\", round(number, 2))\n",
    "# (3) the method .format()\n",
    "print(\"The number is {:.2f}\".format(number))\n",
    "# (4) f-strings\n",
    "print(f\"\"\"The number is {number:.2f}\"\"\")"
   ]
  },
  {
   "cell_type": "code",
   "execution_count": null,
   "metadata": {},
   "outputs": [],
   "source": []
  }
 ],
 "metadata": {
  "kernelspec": {
   "display_name": "Python 3 (ipykernel)",
   "language": "python",
   "name": "python3"
  },
  "language_info": {
   "codemirror_mode": {
    "name": "ipython",
    "version": 3
   },
   "file_extension": ".py",
   "mimetype": "text/x-python",
   "name": "python",
   "nbconvert_exporter": "python",
   "pygments_lexer": "ipython3",
   "version": "3.9.6"
  },
  "widgets": {
   "application/vnd.jupyter.widget-state+json": {
    "state": {},
    "version_major": 2,
    "version_minor": 0
   }
  }
 },
 "nbformat": 4,
 "nbformat_minor": 4
}
